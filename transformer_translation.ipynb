{
  "nbformat": 4,
  "nbformat_minor": 0,
  "metadata": {
    "colab": {
      "provenance": [],
      "gpuType": "T4"
    },
    "kernelspec": {
      "name": "python3",
      "display_name": "Python 3"
    },
    "language_info": {
      "name": "python"
    },
    "accelerator": "GPU"
  },
  "cells": [
    {
      "cell_type": "code",
      "execution_count": 1,
      "metadata": {
        "colab": {
          "base_uri": "https://localhost:8080/"
        },
        "id": "TIoXskULx4du",
        "outputId": "dd44533b-3233-4ec4-9720-dc0dc501c281"
      },
      "outputs": [
        {
          "output_type": "stream",
          "name": "stdout",
          "text": [
            "Collecting opencc-python-reimplemented\n",
            "  Downloading opencc_python_reimplemented-0.1.7-py2.py3-none-any.whl (481 kB)\n",
            "\u001b[2K     \u001b[90m━━━━━━━━━━━━━━━━━━━━━━━━━━━━━━━━━━━━━━━━\u001b[0m \u001b[32m481.8/481.8 kB\u001b[0m \u001b[31m6.9 MB/s\u001b[0m eta \u001b[36m0:00:00\u001b[0m\n",
            "\u001b[?25hInstalling collected packages: opencc-python-reimplemented\n",
            "Successfully installed opencc-python-reimplemented-0.1.7\n"
          ]
        }
      ],
      "source": [
        "!pip install opencc-python-reimplemented\n",
        "import time\n",
        "import pathlib\n",
        "import numpy as np\n",
        "import matplotlib.pyplot as plt\n",
        "import tensorflow as tf\n",
        "import jieba\n",
        "from opencc import OpenCC  #pip install opencc-python-reimplemented"
      ]
    },
    {
      "cell_type": "markdown",
      "source": [
        "# 新段落"
      ],
      "metadata": {
        "id": "X84UJTQI7rPj"
      }
    },
    {
      "cell_type": "code",
      "source": [
        "path_to_file = pathlib.Path('/content/cmn.txt')\n",
        "path_to_file\n"
      ],
      "metadata": {
        "colab": {
          "base_uri": "https://localhost:8080/"
        },
        "id": "cbAkiqNPx5EO",
        "outputId": "51692ff0-59f4-42fa-ede3-fc50ed8883ee"
      },
      "execution_count": 2,
      "outputs": [
        {
          "output_type": "execute_result",
          "data": {
            "text/plain": [
              "PosixPath('/content/cmn.txt')"
            ]
          },
          "metadata": {},
          "execution_count": 2
        }
      ]
    },
    {
      "cell_type": "code",
      "source": [
        "\n",
        "#define a function to load the data, and store into a Chinese dataset, and an English dataset\n",
        "def load_data(path):\n",
        "    targ = [] #English dataset\n",
        "    inp = [] #Chinese dataset\n",
        "    text = path.read_text(encoding='utf-8') #load the data\n",
        "    lines = text.splitlines() #\n",
        "    pairs = [line.split('\\t')[:2] for line in lines]\n",
        "    for y, x in pairs: #read every pairs of dat\n",
        "        targ.append(y)\n",
        "        inp.append(x)\n",
        "    return targ, inp"
      ],
      "metadata": {
        "id": "YWFytQ7ByrxE"
      },
      "execution_count": 3,
      "outputs": []
    },
    {
      "cell_type": "code",
      "source": [
        "targ, inp = load_data(path_to_file)\n",
        "print(len(inp))\n",
        "print(len(targ))\n",
        "print(inp[-10:])\n",
        "print(targ[-10:])"
      ],
      "metadata": {
        "colab": {
          "base_uri": "https://localhost:8080/"
        },
        "id": "yixwyNHDyubf",
        "outputId": "47e5c493-ce68-4a47-b3c8-6d4e9da868c5"
      },
      "execution_count": 4,
      "outputs": [
        {
          "output_type": "stream",
          "name": "stdout",
          "text": [
            "29909\n",
            "29909\n",
            "['菲律賓去年地震和海嘯造成了超過6000人的死亡。', '“又是汤姆的电话？” “嗯。最近他每天晚上都会打过来。当时就不该给他我的号码的。”', '我母亲的法语比我父亲的英语要好，所以他们通常用法语交流。', '汤姆不知如何翻译“计算机”一词，因为同他谈话的人从未见过一台。', '汤姆不喜欢使用”有色人种“这个术语，因为他认为，根据这种说法白种人没有颜色。', '你不想涂防晒霜是你的问题，但是晒伤了不要来抱怨。', '即使是现在，我偶尔还是想见到你。不是今天的你，而是我记忆中曾经的你。', '你很容易把母语说得通顺流畅，却很容易把非母语说得不自然。', '虽然我被公司解雇了，但是我还有点存款，所以目前不用担心生计问题。', '如果一個人在成人前沒有機會習得目標語言，他對該語言的認識達到母語者程度的機會是相當小的。']\n",
            "['Last year in the Philippines, earthquakes and tidal waves resulted in the deaths of more than 6,000 people.', '\"Is that Tom calling again?\" \"Yes. He calls every evening these days. I shouldn\\'t have given him my number.\"', 'My mother speaks French better than my father speaks English, so they usually speak to each other in French.', 'Tom didn\\'t know how to translate the word \"computer\" because the people he was talking to had never seen one.', 'Tom doesn\\'t like to use the term \"a person of color\" because he thinks it implies that white people have no color.', \"If you don't want to put on sunscreen, that's your problem. Just don't come complaining to me when you get a sunburn.\", \"Even now, I occasionally think I'd like to see you. Not the you that you are today, but the you I remember from the past.\", \"It's very easy to sound natural in your own native language, and very easy to sound unnatural in your non-native language.\", \"I got fired from the company, but since I have a little money saved up, for the time being, I won't have trouble with living expenses.\", \"If a person has not had a chance to acquire his target language by the time he's an adult, he's unlikely to be able to reach native speaker level in that language.\"]\n"
          ]
        }
      ]
    },
    {
      "cell_type": "code",
      "source": [
        "#Defines a funciton for converting traditional to simplified\n",
        "def proce_cn_sentence(cn_text):\n",
        "    text = cc.convert(cn_text)\n",
        "    text = jieba.lcut(text)\n",
        "    text = ' '.join(text)\n",
        "    return text"
      ],
      "metadata": {
        "id": "9MJ_BCOpzKt6"
      },
      "execution_count": 5,
      "outputs": []
    },
    {
      "cell_type": "code",
      "source": [
        "cc = OpenCC('t2s')"
      ],
      "metadata": {
        "id": "PtZLrR0fyyaa"
      },
      "execution_count": 6,
      "outputs": []
    },
    {
      "cell_type": "code",
      "source": [
        "#word segmentation of sentences.\n",
        "for i in range(len(inp)):\n",
        "    text = proce_cn_sentence(inp[i])\n",
        "    inp[i] = text"
      ],
      "metadata": {
        "colab": {
          "base_uri": "https://localhost:8080/"
        },
        "id": "JUSIQTBezNfQ",
        "outputId": "38307fd4-b184-4f76-d16f-e605f50be152"
      },
      "execution_count": 7,
      "outputs": [
        {
          "output_type": "stream",
          "name": "stderr",
          "text": [
            "Building prefix dict from the default dictionary ...\n",
            "DEBUG:jieba:Building prefix dict from the default dictionary ...\n",
            "Dumping model to file cache /tmp/jieba.cache\n",
            "DEBUG:jieba:Dumping model to file cache /tmp/jieba.cache\n",
            "Loading model cost 1.621 seconds.\n",
            "DEBUG:jieba:Loading model cost 1.621 seconds.\n",
            "Prefix dict has been built successfully.\n",
            "DEBUG:jieba:Prefix dict has been built successfully.\n"
          ]
        }
      ]
    },
    {
      "cell_type": "code",
      "source": [
        "inp[-10:] #check the data in inp list\n"
      ],
      "metadata": {
        "colab": {
          "base_uri": "https://localhost:8080/"
        },
        "id": "XsO_6Uj5zSVK",
        "outputId": "37c4f7f5-f843-4af9-8cca-00c46f801931"
      },
      "execution_count": 8,
      "outputs": [
        {
          "output_type": "execute_result",
          "data": {
            "text/plain": [
              "['菲律宾 去年 地震 和 海啸 造成 了 超过 6000 人 的 死亡 。',\n",
              " '“ 又 是 汤姆 的 电话 ？ ”   “ 嗯 。 最近 他 每天晚上 都 会 打 过来 。 当时 就 不该 给 他 我 的 号码 的 。 ”',\n",
              " '我 母亲 的 法语 比 我 父亲 的 英语 要 好 ， 所以 他们 通常 用 法语 交流 。',\n",
              " '汤姆 不知 如何 翻译 “ 计算机 ” 一词 ， 因为 同 他 谈话 的 人 从未见过 一台 。',\n",
              " '汤姆 不 喜欢 使用 ” 有色人种 “ 这个 术语 ， 因为 他 认为 ， 根据 这种 说法 白种人 没有 颜色 。',\n",
              " '你 不想 涂 防晒霜 是 你 的 问题 ， 但是 晒伤 了 不要 来 抱怨 。',\n",
              " '即使 是 现在 ， 我 偶尔 还是 想 见到 你 。 不是 今天 的 你 ， 而是 我 记忆 中 曾经 的 你 。',\n",
              " '你 很 容易 把 母语 说 得 通顺 流畅 ， 却 很 容易 把 非 母语 说 得 不 自然 。',\n",
              " '虽然 我 被 公司 解雇 了 ， 但是 我 还 有点 存款 ， 所以 目前 不用 担心 生计 问题 。',\n",
              " '如果 一个 人 在 成人 前 没有 机会 习得 目标语言 ， 他 对 该 语言 的 认识 达到 母语 者 程度 的 机会 是 相当 小 的 。']"
            ]
          },
          "metadata": {},
          "execution_count": 8
        }
      ]
    },
    {
      "cell_type": "code",
      "source": [
        "#define the buffze size and bach size\n",
        "BUFFZE_SIZE = len(inp)\n",
        "print(BUFFZE_SIZE)\n",
        "BATCH_SIZE = 64"
      ],
      "metadata": {
        "colab": {
          "base_uri": "https://localhost:8080/"
        },
        "id": "LzgTvhABzUpD",
        "outputId": "5e619263-5643-49cb-f253-0f5dcad9988b"
      },
      "execution_count": 9,
      "outputs": [
        {
          "output_type": "stream",
          "name": "stdout",
          "text": [
            "29909\n"
          ]
        }
      ]
    },
    {
      "cell_type": "code",
      "source": [
        "\n",
        "#load the data from list to dataset\n",
        "dataset = tf.data.Dataset.from_tensor_slices((inp, targ)).shuffle(BUFFZE_SIZE)\n",
        "dataset = dataset.batch(BATCH_SIZE)"
      ],
      "metadata": {
        "id": "bqx6xS36zcWj"
      },
      "execution_count": 10,
      "outputs": []
    },
    {
      "cell_type": "code",
      "source": [
        "#check the format of data in the dataset\n",
        "for example_input_batch, example_target_batch in dataset.take(1):\n",
        "    print(example_input_batch[:3])\n",
        "    print()\n",
        "    print(example_target_batch[:3])\n",
        "    break"
      ],
      "metadata": {
        "colab": {
          "base_uri": "https://localhost:8080/"
        },
        "id": "gw8oQhWHzcxy",
        "outputId": "a155bfb7-6474-4624-8fb8-fee9430bfec1"
      },
      "execution_count": 11,
      "outputs": [
        {
          "output_type": "stream",
          "name": "stdout",
          "text": [
            "tf.Tensor(\n",
            "[b'\\xe7\\x9c\\x8b\\xe6\\x9d\\xa5 \\xe6\\x88\\x91 \\xe6\\x98\\x8e\\xe5\\xa4\\xa9 \\xe4\\xbc\\x9a \\xe6\\x9d\\xa5 \\xe3\\x80\\x82'\n",
            " b'\\xe5\\xa5\\xb9 \\xe6\\x98\\x8e\\xe5\\xb9\\xb4 \\xe5\\xb0\\x86\\xe8\\xa6\\x81 \\xe7\\xbb\\x93\\xe5\\xa9\\x9a \\xe3\\x80\\x82'\n",
            " b'\\xe8\\xbf\\x99\\xe6\\x9d\\xa1 \\xe8\\xb7\\xaf\\xe5\\xa4\\xaa\\xe7\\xaa\\x84 \\xe6\\xb1\\xbd\\xe8\\xbd\\xa6 \\xe6\\x97\\xa0\\xe6\\xb3\\x95 \\xe9\\x80\\x9a\\xe8\\xa1\\x8c \\xe3\\x80\\x82'], shape=(3,), dtype=string)\n",
            "\n",
            "tf.Tensor(\n",
            "[b\"I'll be here tomorrow, I think.\"\n",
            " b\"She'll be getting married next year.\"\n",
            " b'The road is too narrow for cars.'], shape=(3,), dtype=string)\n"
          ]
        }
      ]
    },
    {
      "cell_type": "code",
      "source": [
        "#add the start and end in every Chinese sentence\n",
        "def tf_lower_and_split_punct_cn(text):\n",
        "    #change the capital character in to lower\n",
        "    text = tf.strings.lower(text)\n",
        "    text = tf.strings.strip(text)\n",
        "    text = tf.strings.join(['[START]', text, '[END]'], separator=' ')\n",
        "    return text\n",
        "\n"
      ],
      "metadata": {
        "id": "sjV9CiFnzeoo"
      },
      "execution_count": 12,
      "outputs": []
    },
    {
      "cell_type": "code",
      "source": [
        "example_text = tf.constant('去年 在 菲律宾 ， 地震 和 海啸 造成 了 超过 6000 人 的 死亡 。')\n",
        "print(example_text.numpy().decode())\n",
        "print(tf_lower_and_split_punct_cn(example_text).numpy().decode())"
      ],
      "metadata": {
        "colab": {
          "base_uri": "https://localhost:8080/"
        },
        "id": "QIAJd6gpzibn",
        "outputId": "b7e38045-cfd1-4ea8-998c-30dcf73302a8"
      },
      "execution_count": 13,
      "outputs": [
        {
          "output_type": "stream",
          "name": "stdout",
          "text": [
            "去年 在 菲律宾 ， 地震 和 海啸 造成 了 超过 6000 人 的 死亡 。\n",
            "[START] 去年 在 菲律宾 ， 地震 和 海啸 造成 了 超过 6000 人 的 死亡 。 [END]\n"
          ]
        }
      ]
    },
    {
      "cell_type": "code",
      "source": [
        "max_vocab_size = 15000 #define the size of the Chinese dictionary\n"
      ],
      "metadata": {
        "id": "igi8edR6zj49"
      },
      "execution_count": 14,
      "outputs": []
    },
    {
      "cell_type": "code",
      "source": [
        "#tf.keras.layers.TextVectorization can change sentences into number\n",
        "\n",
        "\n",
        "input_text_processor = tf.keras.layers.TextVectorization(\n",
        "    standardize=tf_lower_and_split_punct_cn,\n",
        "    max_tokens=max_vocab_size)"
      ],
      "metadata": {
        "id": "imYKFxGCz2R0"
      },
      "execution_count": 15,
      "outputs": []
    },
    {
      "cell_type": "code",
      "source": [
        "#use the method above\n",
        "input_text_processor.adapt(inp)\n",
        "\n",
        "#get the table of vocabulary\n",
        "input_text_processor.get_vocabulary()[:10]"
      ],
      "metadata": {
        "colab": {
          "base_uri": "https://localhost:8080/"
        },
        "id": "nLtdPPPjz36X",
        "outputId": "f2bf0d68-6187-4280-a0ec-b3aa4c23aab4"
      },
      "execution_count": 16,
      "outputs": [
        {
          "output_type": "execute_result",
          "data": {
            "text/plain": [
              "['', '[UNK]', '[START]', '[END]', '。', '我', '的', '了', '你', '？']"
            ]
          },
          "metadata": {},
          "execution_count": 16
        }
      ]
    },
    {
      "cell_type": "code",
      "source": [
        "example_tokens = input_text_processor(example_input_batch)\n",
        "example_tokens"
      ],
      "metadata": {
        "colab": {
          "base_uri": "https://localhost:8080/"
        },
        "id": "6iVuCgGqz8RG",
        "outputId": "8ab1c5b7-a6ce-457f-b6d2-1ee2ef2e14e2"
      },
      "execution_count": 17,
      "outputs": [
        {
          "output_type": "execute_result",
          "data": {
            "text/plain": [
              "<tf.Tensor: shape=(64, 17), dtype=int64, numpy=\n",
              "array([[   2,  390,    5, ...,    0,    0,    0],\n",
              "       [   2,   15,  868, ...,    0,    0,    0],\n",
              "       [   2,  424, 7328, ...,    0,    0,    0],\n",
              "       ...,\n",
              "       [   2,   10,   30, ...,    0,    0,    0],\n",
              "       [   2,  858,  237, ...,    0,    0,    0],\n",
              "       [   2,    5,   18, ...,    0,    0,    0]])>"
            ]
          },
          "metadata": {},
          "execution_count": 17
        }
      ]
    },
    {
      "cell_type": "code",
      "source": [
        "#the method to process the English sentences\n",
        "def tf_lower_and_split_punct_en(text):\n",
        "    text = tf.strings.lower(text)\n",
        "    text = tf.strings.regex_replace(text, '[^ a-z.?!,¿]', '')\n",
        "    text = tf.strings.regex_replace(text, '[.?!,¿]', r' \\0 ')\n",
        "    text = tf.strings.strip(text)\n",
        "\n",
        "    text = tf.strings.join(['[START]', text, '[END]'], separator=' ')\n",
        "    return text"
      ],
      "metadata": {
        "id": "1mHxvIEF1uQx"
      },
      "execution_count": 18,
      "outputs": []
    },
    {
      "cell_type": "code",
      "source": [
        "output_text_processor = tf.keras.layers.TextVectorization(\n",
        "    standardize=tf_lower_and_split_punct_en,\n",
        "    max_tokens=max_vocab_size)"
      ],
      "metadata": {
        "id": "5xm3E5a91xbg"
      },
      "execution_count": 19,
      "outputs": []
    },
    {
      "cell_type": "code",
      "source": [
        "output_text_processor.adapt(targ)\n",
        "output_text_processor.get_vocabulary()[:10]"
      ],
      "metadata": {
        "colab": {
          "base_uri": "https://localhost:8080/"
        },
        "id": "H-3xXJON1z_9",
        "outputId": "b9e2af5e-1e9b-44b2-fb32-de3683906d97"
      },
      "execution_count": 20,
      "outputs": [
        {
          "output_type": "execute_result",
          "data": {
            "text/plain": [
              "['', '[UNK]', '[START]', '[END]', '.', 'the', 'i', 'to', 'you', '?']"
            ]
          },
          "metadata": {},
          "execution_count": 20
        }
      ]
    },
    {
      "cell_type": "code",
      "source": [
        "def tokenize_pairs(cn, en):\n",
        "    cn = input_text_processor(cn)\n",
        "    en = output_text_processor(en)\n",
        "    return cn, en"
      ],
      "metadata": {
        "id": "HWjprCxy11iU"
      },
      "execution_count": 21,
      "outputs": []
    },
    {
      "cell_type": "code",
      "source": [
        "def make_batches(ds):\n",
        "    return (\n",
        "        ds\n",
        "        .map(tokenize_pairs, num_parallel_calls=tf.data.AUTOTUNE)\n",
        "    )"
      ],
      "metadata": {
        "id": "4AfblIdO1_-G"
      },
      "execution_count": 22,
      "outputs": []
    },
    {
      "cell_type": "code",
      "source": [
        "train_batches = make_batches(dataset)\n",
        "train_batches"
      ],
      "metadata": {
        "colab": {
          "base_uri": "https://localhost:8080/"
        },
        "id": "RG9zSkIy2Bo_",
        "outputId": "c3861154-7ef4-47ce-8128-4bf953bc3bb7"
      },
      "execution_count": 23,
      "outputs": [
        {
          "output_type": "execute_result",
          "data": {
            "text/plain": [
              "<_ParallelMapDataset element_spec=(TensorSpec(shape=(None, None), dtype=tf.int64, name=None), TensorSpec(shape=(None, None), dtype=tf.int64, name=None))>"
            ]
          },
          "metadata": {},
          "execution_count": 23
        }
      ]
    },
    {
      "cell_type": "code",
      "source": [
        "for (batch, (inp, tar)) in enumerate(train_batches.take(3)):\n",
        "    print(batch)\n",
        "    print(inp)\n",
        "    print(tar)"
      ],
      "metadata": {
        "colab": {
          "base_uri": "https://localhost:8080/"
        },
        "id": "ZDwbnVvO2DQX",
        "outputId": "ea7718dd-a97d-4416-8408-4047859489fd"
      },
      "execution_count": 24,
      "outputs": [
        {
          "output_type": "stream",
          "name": "stdout",
          "text": [
            "0\n",
            "tf.Tensor(\n",
            "[[    2  4709     7     4     3     0     0     0     0     0     0     0\n",
            "      0]\n",
            " [    2    12   262    32   113     4     3     0     0     0     0     0\n",
            "      0]\n",
            " [    2   591  1035  1364   935   963     4     3     0     0     0     0\n",
            "      0]\n",
            " [    2    17    13   469  1335   358  7506     6     4     3     0     0\n",
            "      0]\n",
            " [    2     5  8587  1652     4     3     0     0     0     0     0     0\n",
            "      0]\n",
            " [    2    15    34     5  3181     7   488     4     3     0     0     0\n",
            "      0]\n",
            " [    2    10    13     5     6    31   854     4     3     0     0     0\n",
            "      0]\n",
            " [    2    10    20  6806     6   363 10706     4     3     0     0     0\n",
            "      0]\n",
            " [    2    17  3244     7    31   109     4     3     0     0     0     0\n",
            "      0]\n",
            " [    2    62    27   144   577     4     3     0     0     0     0     0\n",
            "      0]\n",
            " [    2     8    55   253    10  1459     4     3     0     0     0     0\n",
            "      0]\n",
            " [    2     8    26    15    78   154   367    14     9     3     0     0\n",
            "      0]\n",
            " [    2    15    23     7  2372   238   363     4     3     0     0     0\n",
            "      0]\n",
            " [    2     5    18    12  1121   302     4     3     0     0     0     0\n",
            "      0]\n",
            " [    2    53    12   173    21    14     9     3     0     0     0     0\n",
            "      0]\n",
            " [    2   593    20    95   507     7   141     9     3     0     0     0\n",
            "      0]\n",
            " [    2    11  4119     7    10     6  5518     4     3     0     0     0\n",
            "      0]\n",
            " [    2     8    50  5869    10  3496     6   798   511     9     3     0\n",
            "      0]\n",
            " [    2     5    18    26    10    21    58    35    47     4     3     0\n",
            "      0]\n",
            " [    2    85 12215     4     3     0     0     0     0     0     0     0\n",
            "      0]\n",
            " [    2     8    35    23  2836    14     9     3     0     0     0     0\n",
            "      0]\n",
            " [    2    11  5267   115     4     3     0     0     0     0     0     0\n",
            "      0]\n",
            " [    2    11    12  2991   361   160    64   125     7 11315     4     3\n",
            "      0]\n",
            " [    2     5   255     8  2738     4     3     0     0     0     0     0\n",
            "      0]\n",
            " [    2     8    66    26    22    13    18    82     6     4     3     0\n",
            "      0]\n",
            " [    2    11  1841     5     6  1462    24     7     4     3     0     0\n",
            "      0]\n",
            " [    2    15    12    10     6  2012    46  2435     7   138     4     3\n",
            "      0]\n",
            " [    2  1322    20  6542  1007    57     7     4     3     0     0     0\n",
            "      0]\n",
            " [    2     5   385     7   178    11     4     3     0     0     0     0\n",
            "      0]\n",
            " [    2  2354     4     3     0     0     0     0     0     0     0     0\n",
            "      0]\n",
            " [    2     8    90    10    13    86  2041   228   616 10362    14     9\n",
            "      3]\n",
            " [    2    29  9032    34    17   718  9033     4     3     0     0     0\n",
            "      0]\n",
            " [    2    56    49  2642     4    15   221  2251     4     3     0     0\n",
            "      0]\n",
            " [    2     5    13  3916     4     3     0     0     0     0     0     0\n",
            "      0]\n",
            " [    2   684   252    35    19    38     4     3     0     0     0     0\n",
            "      0]\n",
            " [    2     8   173   234     7  1514    34     5     4     3     0     0\n",
            "      0]\n",
            " [    2     5  5758    16    28   722  1751     4     3     0     0     0\n",
            "      0]\n",
            " [    2   869   112    21     5    25    75  2726   534     6     4     3\n",
            "      0]\n",
            " [    2     8   597    30   316    31    16  1171   205   611     9     3\n",
            "      0]\n",
            " [    2    36  6076     7    16   300   811   231     7   108     4     3\n",
            "      0]\n",
            " [    2    12   457  2464   108    12   129     5     4     3     0     0\n",
            "      0]\n",
            " [    2    11  1198     7    14     9     3     0     0     0     0     0\n",
            "      0]\n",
            " [    2     5     6   374   657     7     4     3     0     0     0     0\n",
            "      0]\n",
            " [    2  7212    11     6     4     3     0     0     0     0     0     0\n",
            "      0]\n",
            " [    2     8    35   785     6     4     3     0     0     0     0     0\n",
            "      0]\n",
            " [    2    39   219     7    16     5  9574     4     3     0     0     0\n",
            "      0]\n",
            " [    2    22   132    13    73     6     9     3     0     0     0     0\n",
            "      0]\n",
            " [    2   637   420 10633     6   243 11038     4     3     0     0     0\n",
            "      0]\n",
            " [    2     8   146   241     4     3     0     0     0     0     0     0\n",
            "      0]\n",
            " [    2     5   594     8    35   265     4     3     0     0     0     0\n",
            "      0]\n",
            " [    2    22    19    38     4     3     0     0     0     0     0     0\n",
            "      0]\n",
            " [    2   164    35   250    14     9     3     0     0     0     0     0\n",
            "      0]\n",
            " [    2     5   169    25    23   130     4     3     0     0     0     0\n",
            "      0]\n",
            " [    2     5    23   159  2673     4     3     0     0     0     0     0\n",
            "      0]\n",
            " [    2    15  9403     7     4     3     0     0     0     0     0     0\n",
            "      0]\n",
            " [    2    87  5195     6     4     3     0     0     0     0     0     0\n",
            "      0]\n",
            " [    2  2180  4503   146    12  2364     9     3     0     0     0     0\n",
            "      0]\n",
            " [    2    15  2035     6  1604     7  1670     4     3     0     0     0\n",
            "      0]\n",
            " [    2     5   206  1719   165  1639  5134     4     3     0     0     0\n",
            "      0]\n",
            " [    2  5315  8767    16 11704     5 11661     4     3     0     0     0\n",
            "      0]\n",
            " [    2     8  1809  3387   280    70     3     0     0     0     0     0\n",
            "      0]\n",
            " [    2    11    32     7    10    21    80    48   200     4     3     0\n",
            "      0]\n",
            " [    2     8    97   381   104     4     3     0     0     0     0     0\n",
            "      0]\n",
            " [    2     5   377    34     7     5   664   554     4     3     0     0\n",
            "      0]], shape=(64, 13), dtype=int64)\n",
            "tf.Tensor(\n",
            "[[   2    5  949   48  632    4    3    0    0    0    0    0    0    0\n",
            "     0]\n",
            " [   2  127   11  954   14  640    4    3    0    0    0    0    0    0\n",
            "     0]\n",
            " [   2    5 1138   51  103  144  305    4    3    0    0    0    0    0\n",
            "     0]\n",
            " [   2   33   65  721    7  783    4    3    0    0    0    0    0    0\n",
            "     0]\n",
            " [   2   32 1665    7 6635    4    3    0    0    0    0    0    0    0\n",
            "     0]\n",
            " [   2   25  114  411   26   21    4    3    0    0    0    0    0    0\n",
            "     0]\n",
            " [   2   13   11   82   15   16 1262    4    3    0    0    0    0    0\n",
            "     0]\n",
            " [   2   13   48   10 2243 7058   26  389    4    3    0    0    0    0\n",
            "     0]\n",
            " [   2   33 2825   10  343    4    3    0    0    0    0    0    0    0\n",
            "     0]\n",
            " [   2   47   38   17 1320    4    3    0    0    0    0    0    0    0\n",
            "     0]\n",
            " [   2    8   40  258   52   26  106    4    3    0    0    0    0    0\n",
            "     0]\n",
            " [   2   19    8   43   89  231   95  436    9    3    0    0    0    0\n",
            "     0]\n",
            " [   2   25  153    7 1608    7  307  389    4    3    0    0    0    0\n",
            "     0]\n",
            " [   2    6   28  346   14   10  292    4    3    0    0    0    0    0\n",
            "     0]\n",
            " [   2   27    8  296   26  130    9    3    0    0    0    0    0    0\n",
            "     0]\n",
            " [   2   30   80  130  550  807    9    3    0    0    0    0    0    0\n",
            "     0]\n",
            " [   2   12   81 1395   15   34  148  316    4    3    0    0    0    0\n",
            "     0]\n",
            " [   2   40    8  166   59   39    5  188   13 4413    9    3    0    0\n",
            "     0]\n",
            " [   2    6   28   43   75   13   51   78    4    3    0    0    0    0\n",
            "     0]\n",
            " [   2   28 5304    4    3    0    0    0    0    0    0    0    0    0\n",
            "     0]\n",
            " [   2   51    8   41    7 1614    9    3    0    0    0    0    0    0\n",
            "     0]\n",
            " [   2   12  262   10  142   15  123    4    3    0    0    0    0    0\n",
            "     0]\n",
            " [   2   12  508   14   17  480  125   26   10  178  175  250  162    4\n",
            "     3]\n",
            " [   2    6 2436    8    7  470  628    4    3    0    0    0    0    0\n",
            "     0]\n",
            " [   2    8   83   43   17  150  876    4    3    0    0    0    0    0\n",
            "     0]\n",
            " [   2   12   54   22    5  299  188    6   54    4    3    0    0    0\n",
            "     0]\n",
            " [   2   25 1603   52   31    5 2759    4    3    0    0    0    0    0\n",
            "     0]\n",
            " [   2 7060  791  320  123 1790    4    3    0    0    0    0    0    0\n",
            "     0]\n",
            " [   2    6  672    7  258   12    4    3    0    0    0    0    0    0\n",
            "     0]\n",
            " [   2  282    5  321    4    3    0    0    0    0    0    0    0    0\n",
            "     0]\n",
            " [   2   19    8   60   13   54    5  217   31   34  407    9    3    0\n",
            "     0]\n",
            " [   2   18 6583 1999   96   39  207   44 1631    4    3    0    0    0\n",
            "     0]\n",
            " [   2   62  105  121  362    4  231  173 1490    7   37  362    4    3\n",
            "     0]\n",
            " [   2    6  120   67  173  343    4    3    0    0    0    0    0    0\n",
            "     0]\n",
            " [   2   22   51   37  805   18  463    4    3    0    0    0    0    0\n",
            "     0]\n",
            " [   2    8  179   21    5  256  470    4    3    0    0    0    0    0\n",
            "     0]\n",
            " [   2    6   24  339 1382   44  221    7  268  130 1643    4    3    0\n",
            "     0]\n",
            " [   2   63  358   30  917   20    6  212  470   16  340    4    3    0\n",
            "     0]\n",
            " [   2  277   19    8  777   20  815  187  765    9    3    0    0    0\n",
            "     0]\n",
            " [   2   61  114   59   44  539  197  190    4    3    0    0    0    0\n",
            "     0]\n",
            " [   2    6   23   10  274  396   26   21   14  599   15    5  580    4\n",
            "     3]\n",
            " [   2   11   12  675    9    3    0    0    0    0    0    0    0    0\n",
            "     0]\n",
            " [   2   16  552  500   10  228    4    3    0    0    0    0    0    0\n",
            "     0]\n",
            " [   2   47  110  286  264   26   12    4    3    0    0    0    0    0\n",
            "     0]\n",
            " [   2  302   71  191    4    3    0    0    0    0    0    0    0    0\n",
            "     0]\n",
            " [   2   47   77    7  272   20   26  247    4    3    0    0    0    0\n",
            "     0]\n",
            " [   2  107  154    5  104 1090    7    9    3    0    0    0    0    0\n",
            "     0]\n",
            " [   2    5  913 3251   39    5 6070  592    4    3    0    0    0    0\n",
            "     0]\n",
            " [   2    8   27  129  183    4    3    0    0    0    0    0    0    0\n",
            "     0]\n",
            " [   2   32 2388   17  302  794    4    3    0    0    0    0    0    0\n",
            "     0]\n",
            " [   2   18   11   50   64    4    3    0    0    0    0    0    0    0\n",
            "     0]\n",
            " [   2   40  327  315    9    3    0    0    0    0    0    0    0    0\n",
            "     0]\n",
            " [   2    6   41    7   98  143  115    4    3    0    0    0    0    0\n",
            "     0]\n",
            " [   2   32   77    7    5 3002    4    3    0    0    0    0    0    0\n",
            "     0]\n",
            " [   2   25   24 5348    4    3    0    0    0    0    0    0    0    0\n",
            "     0]\n",
            " [   2   79   85    7   22    4    3    0    0    0    0    0    0    0\n",
            "     0]\n",
            " [   2   89   27    8  138  129 1915    9    3    0    0    0    0    0\n",
            "     0]\n",
            " [   2  231  247    7  794    4    3    0    0    0    0    0    0    0\n",
            "     0]\n",
            " [   2   87   88  239  747   10  525  419    4    3    0    0    0    0\n",
            "     0]\n",
            " [   2    5 5650   15    5 6866 5773   21    7  346    4    3    0    0\n",
            "     0]\n",
            " [   2   45 1266    8   27  124    3    0    0    0    0    0    0    0\n",
            "     0]\n",
            " [   2   12  136   13   73   85  140    4    3    0    0    0    0    0\n",
            "     0]\n",
            " [   2  302   23    7  486   35  318    4    3    0    0    0    0    0\n",
            "     0]\n",
            " [   2   16  502  179   21   10  649    4    3    0    0    0    0    0\n",
            "     0]], shape=(64, 15), dtype=int64)\n",
            "1\n",
            "tf.Tensor(\n",
            "[[    2    10    33   156     6  6002  2311     7  1321     4     3     0\n",
            "      0     0     0]\n",
            " [    2    17    18  1143     4     3     0     0     0     0     0     0\n",
            "      0     0     0]\n",
            " [    2    22    49    31    19   298     6   637     4     3     0     0\n",
            "      0     0     0]\n",
            " [    2     8    24    21     9     3     0     0     0     0     0     0\n",
            "      0     0     0]\n",
            " [    2    11    12  3445    61  1999     7     4     3     0     0     0\n",
            "      0     0     0]\n",
            " [    2     8   569    78    39   154    24     9     3     0     0     0\n",
            "      0     0     0]\n",
            " [    2     5   135   318   609   509   680     6   155     4     3     0\n",
            "      0     0     0]\n",
            " [    2     5   103   570   444     4     3     0     0     0     0     0\n",
            "      0     0     0]\n",
            " [    2     5     6   470   767     7     4     3     0     0     0     0\n",
            "      0     0     0]\n",
            " [    2   349  1373    88  1152   192    43   104   173    61   460  5253\n",
            "      7     4     3]\n",
            " [    2     8    55    33     8     6  1162   581    59     4     3     0\n",
            "      0     0     0]\n",
            " [    2     5    18   379  6047   259     4     3     0     0     0     0\n",
            "      0     0     0]\n",
            " [    2    17   556  1745     4     3     0     0     0     0     0     0\n",
            "      0     0     0]\n",
            " [    2    37   778    47  3327     4     3     0     0     0     0     0\n",
            "      0     0     0]\n",
            " [    2   144   179    40    17   104  1520    98     4     3     0     0\n",
            "      0     0     0]\n",
            " [    2   149    94  1061   361     4     3     0     0     0     0     0\n",
            "      0     0     0]\n",
            " [    2   220   204    63    25   403  5433     4     3     0     0     0\n",
            "      0     0     0]\n",
            " [    2    10    19   233   657     4     3     0     0     0     0     0\n",
            "      0     0     0]\n",
            " [    2    15   429    94  6382   120    58    25   350     4     3     0\n",
            "      0     0     0]\n",
            " [    2    10   221   301     4     3     0     0     0     0     0     0\n",
            "      0     0     0]\n",
            " [    2   180  1457   203   185     4     3     0     0     0     0     0\n",
            "      0     0     0]\n",
            " [    2    45    67     5    11    19    38     4     3     0     0     0\n",
            "      0     0     0]\n",
            " [    2    17   232   343   112     6    72    16   275    19   547     4\n",
            "      3     0     0]\n",
            " [    2   202     5     6   295    61   460     7     4     3     0     0\n",
            "      0     0     0]\n",
            " [    2   991  1123    20   847  2106     4     3     0     0     0     0\n",
            "      0     0     0]\n",
            " [    2     5  2757     7    31   251    16   522  1132  2063     7     4\n",
            "      3     0     0]\n",
            " [    2    10  1236    57    31 10721  1199     7     4     3     0     0\n",
            "      0     0     0]\n",
            " [    2    44     5   304    22    43    49    52    76     4     3     0\n",
            "      0     0     0]\n",
            " [    2    60    88    75   112     4     3     0     0     0     0     0\n",
            "      0     0     0]\n",
            " [    2    22    13     8     6   140     4     5     6   141     9     3\n",
            "      0     0     0]\n",
            " [    2  1052  2735     4     3     0     0     0     0     0     0     0\n",
            "      0     0     0]\n",
            " [    2    87   250     4     3     0     0     0     0     0     0     0\n",
            "      0     0     0]\n",
            " [    2     8    63    12    93    54     9     3     0     0     0     0\n",
            "      0     0     0]\n",
            " [    2     8  1773    65    17   153  1016    14     9     3     0     0\n",
            "      0     0     0]\n",
            " [    2    36   146  3672     4     3     0     0     0     0     0     0\n",
            "      0     0     0]\n",
            " [    2    10   571    54   286  1695     4     3     0     0     0     0\n",
            "      0     0     0]\n",
            " [    2     8    55   128     5   874    22   565    14    41     3     0\n",
            "      0     0     0]\n",
            " [    2     5   644   192    77    91     7     4     3     0     0     0\n",
            "      0     0     0]\n",
            " [    2    10   270     7   450   259     4     3     0     0     0     0\n",
            "      0     0     0]\n",
            " [    2     5  1179  3556     6    58  3254     7    10  4121     6   331\n",
            "      4     3     0]\n",
            " [    2     5    74    12   392     4     3     0     0     0     0     0\n",
            "      0     0     0]\n",
            " [    2     8    74    66   836     4     3     0     0     0     0     0\n",
            "      0     0     0]\n",
            " [    2  3683  6560  4982     6  1379     4     3     0     0     0     0\n",
            "      0     0     0]\n",
            " [    2     5   110     5     6   619  1806   123    64    47     4     3\n",
            "      0     0     0]\n",
            " [    2    60    37    21    80   122    24     4     3     0     0     0\n",
            "      0     0     0]\n",
            " [    2  1332   335  7403     8     6  2294     4     3     0     0     0\n",
            "      0     0     0]\n",
            " [    2    10    94     5   185  1407     4     3     0     0     0     0\n",
            "      0     0     0]\n",
            " [    2    17     6   439    39  1697    51     7     4     3     0     0\n",
            "      0     0     0]\n",
            " [    2    15   983     5     6   410     4     3     0     0     0     0\n",
            "      0     0     0]\n",
            " [    2  5155     4     3     0     0     0     0     0     0     0     0\n",
            "      0     0     0]\n",
            " [    2   188   272     6     4     3     0     0     0     0     0     0\n",
            "      0     0     0]\n",
            " [    2    10  2552   628     4     3     0     0     0     0     0     0\n",
            "      0     0     0]\n",
            " [    2    36  1259     7    29  7727     6   257     4     3     0     0\n",
            "      0     0     0]\n",
            " [    2     5    26     8   122    31  6414     4     3     0     0     0\n",
            "      0     0     0]\n",
            " [    2     5   127    48    37   224     5   894     4     3     0     0\n",
            "      0     0     0]\n",
            " [    2     5   110   450   259     4     3     0     0     0     0     0\n",
            "      0     0     0]\n",
            " [    2     5    19  1206    10     6   405     4     3     0     0     0\n",
            "      0     0     0]\n",
            " [    2    11    33   764     5     6    83   923     5     7     4     3\n",
            "      0     0     0]\n",
            " [    2     5    44    15  1512     4     3     0     0     0     0     0\n",
            "      0     0     0]\n",
            " [    2    11    42     5   635   236     4     3     0     0     0     0\n",
            "      0     0     0]\n",
            " [    2    17 10160    71    16    13  1511  9026  3540     4     3     0\n",
            "      0     0     0]\n",
            " [    2    45     8    34     5    71   138    22   867   821    38    14\n",
            "      9     3     0]\n",
            " [    2     5    96    82    13  4024   141     9  4024    75  2481     4\n",
            "      3     0     0]\n",
            " [    2    11    13   741     4     3     0     0     0     0     0     0\n",
            "      0     0     0]], shape=(64, 15), dtype=int64)\n",
            "tf.Tensor(\n",
            "[[   2   13 1069 ...    0    0    0]\n",
            " [   2   65   38 ...    0    0    0]\n",
            " [   2   22  303 ...    0    0    0]\n",
            " ...\n",
            " [   2   76    8 ...    0    0    0]\n",
            " [   2   45  111 ...    0    0    0]\n",
            " [   2   12   11 ...    0    0    0]], shape=(64, 19), dtype=int64)\n",
            "2\n",
            "tf.Tensor(\n",
            "[[   2  297 2678 ...    0    0    0]\n",
            " [   2  193 2123 ...    0    0    0]\n",
            " [   2    8   50 ...    0    0    0]\n",
            " ...\n",
            " [   2   22   13 ...    0    0    0]\n",
            " [   2   10    6 ...    0    0    0]\n",
            " [   2    5   86 ...    0    0    0]], shape=(64, 16), dtype=int64)\n",
            "tf.Tensor(\n",
            "[[   2  207 4952 ...    0    0    0]\n",
            " [   2   28  448 ...    0    0    0]\n",
            " [   2   40    8 ...    0    0    0]\n",
            " ...\n",
            " [   2   18   11 ...    0    0    0]\n",
            " [   2   34  100 ...    0    0    0]\n",
            " [   2    6  446 ...    0    0    0]], shape=(64, 18), dtype=int64)\n"
          ]
        }
      ]
    },
    {
      "cell_type": "code",
      "source": [
        "# PE represent the information of the position\n",
        "# pos represent the position of every word in the sentenece\n",
        "# embedding size is 300\n",
        "# i=0 时 2i=0 represent the first embedding position is even\n",
        "# when 2i is even we use sin, 2i+1 is odd we use cos\n",
        "\n",
        "\n",
        "# the calculation formula\n",
        "def get_angles(pos, i, d_model):\n",
        "    angle_rates = 1/np.power(10000, (2 * (i//2)) / np.float32(d_model)) #i//2取整\n",
        "    return pos * angle_rates\n",
        "\n",
        "\n",
        "#position represent the length of the sentence, d_model represent the dimension of embedding\n",
        "def positional_encoding(position, d_model):\n",
        "\n",
        "    angle_rads = get_angles(np.arange(position)[:, np.newaxis],\n",
        "                            np.arange(d_model)[np.newaxis, :],\n",
        "                            d_model)\n",
        "\n",
        "    # apply sin to even indices in the array; 2i\n",
        "    angle_rads[:, 0::2] = np.sin(angle_rads[:, 0::2])\n",
        "\n",
        "    # apply cos to odd indices in the array; 2i+1\n",
        "    angle_rads[:, 1::2] = np.cos(angle_rads[:, 1::2])\n",
        "\n",
        "    pos_encoding = angle_rads[np.newaxis, ...] #(1, position, d_model)\n",
        "\n",
        "    return tf.cast(pos_encoding, dtype=tf.float32) #change the data into float"
      ],
      "metadata": {
        "id": "KEJOo5OV2HtY"
      },
      "execution_count": 25,
      "outputs": []
    },
    {
      "cell_type": "code",
      "source": [
        "def create_padding_mask(seq):\n",
        "    #seq is the sentenece after padding and digitalizing\n",
        "\n",
        "    #tf.math.equal(x,y)\n",
        "    #tf.cast()change the type of data\n",
        "    seq = tf.cast(tf.math.equal(seq, 0), tf.float32) #(batch_size, seq_len)\n",
        "\n",
        "    #add new dimension into padding\n",
        "    #将add attention into logits\n",
        "    return seq[:, tf.newaxis, tf.newaxis, :] #(batch_size, 1, 1, seq_len)"
      ],
      "metadata": {
        "id": "shxQVTHC28-q"
      },
      "execution_count": 26,
      "outputs": []
    },
    {
      "cell_type": "code",
      "source": [
        "def create_look_ahead_mask(size):\n",
        "    #size is the length of the sentence\n",
        "\n",
        "    mask = 1 - tf.linalg.band_part(tf.ones((size,size)), -1, 0)\n",
        "    return mask #(seq_len, seq_len)"
      ],
      "metadata": {
        "id": "u_S_8kes3Drq"
      },
      "execution_count": 27,
      "outputs": []
    },
    {
      "cell_type": "code",
      "source": [
        "tf.ones((5,5))\n"
      ],
      "metadata": {
        "colab": {
          "base_uri": "https://localhost:8080/"
        },
        "id": "pa94Kc4IAsq0",
        "outputId": "ee36e060-c789-4305-ea55-f7c768fcc7e7"
      },
      "execution_count": 28,
      "outputs": [
        {
          "output_type": "execute_result",
          "data": {
            "text/plain": [
              "<tf.Tensor: shape=(5, 5), dtype=float32, numpy=\n",
              "array([[1., 1., 1., 1., 1.],\n",
              "       [1., 1., 1., 1., 1.],\n",
              "       [1., 1., 1., 1., 1.],\n",
              "       [1., 1., 1., 1., 1.],\n",
              "       [1., 1., 1., 1., 1.]], dtype=float32)>"
            ]
          },
          "metadata": {},
          "execution_count": 28
        }
      ]
    },
    {
      "cell_type": "code",
      "source": [
        "tf.linalg.band_part(tf.ones((5, 5)), -1, 0)"
      ],
      "metadata": {
        "colab": {
          "base_uri": "https://localhost:8080/"
        },
        "id": "ZDhJ1y_IAvpX",
        "outputId": "30dff9b6-431f-4597-e073-ee382ae1db7f"
      },
      "execution_count": 29,
      "outputs": [
        {
          "output_type": "execute_result",
          "data": {
            "text/plain": [
              "<tf.Tensor: shape=(5, 5), dtype=float32, numpy=\n",
              "array([[1., 0., 0., 0., 0.],\n",
              "       [1., 1., 0., 0., 0.],\n",
              "       [1., 1., 1., 0., 0.],\n",
              "       [1., 1., 1., 1., 0.],\n",
              "       [1., 1., 1., 1., 1.]], dtype=float32)>"
            ]
          },
          "metadata": {},
          "execution_count": 29
        }
      ]
    },
    {
      "cell_type": "code",
      "source": [
        "#when num_lower, num_upper are all 0, only store the value on the diagonal\n",
        "tf.linalg.band_part(tf.ones((5, 5)), 0, 0)"
      ],
      "metadata": {
        "colab": {
          "base_uri": "https://localhost:8080/"
        },
        "id": "ml8SAz8gA0OF",
        "outputId": "f8a79a3c-d3de-47ee-d356-a1e261e935bf"
      },
      "execution_count": 30,
      "outputs": [
        {
          "output_type": "execute_result",
          "data": {
            "text/plain": [
              "<tf.Tensor: shape=(5, 5), dtype=float32, numpy=\n",
              "array([[1., 0., 0., 0., 0.],\n",
              "       [0., 1., 0., 0., 0.],\n",
              "       [0., 0., 1., 0., 0.],\n",
              "       [0., 0., 0., 1., 0.],\n",
              "       [0., 0., 0., 0., 1.]], dtype=float32)>"
            ]
          },
          "metadata": {},
          "execution_count": 30
        }
      ]
    },
    {
      "cell_type": "code",
      "source": [
        "#when num_lower is 1, only store the value under the diagonal\n",
        "tf.linalg.band_part(tf.ones((5, 5)), 1, 0)"
      ],
      "metadata": {
        "colab": {
          "base_uri": "https://localhost:8080/"
        },
        "id": "ddzgpY8eA12K",
        "outputId": "275c8817-5ef3-4147-dbf6-2ecc4a0fc466"
      },
      "execution_count": 31,
      "outputs": [
        {
          "output_type": "execute_result",
          "data": {
            "text/plain": [
              "<tf.Tensor: shape=(5, 5), dtype=float32, numpy=\n",
              "array([[1., 0., 0., 0., 0.],\n",
              "       [1., 1., 0., 0., 0.],\n",
              "       [0., 1., 1., 0., 0.],\n",
              "       [0., 0., 1., 1., 0.],\n",
              "       [0., 0., 0., 1., 1.]], dtype=float32)>"
            ]
          },
          "metadata": {},
          "execution_count": 31
        }
      ]
    },
    {
      "cell_type": "code",
      "source": [
        "#when num_upper is 1, only store the value above the diagonal\n",
        "tf.linalg.band_part(tf.ones((5, 5)), 0, 1)"
      ],
      "metadata": {
        "colab": {
          "base_uri": "https://localhost:8080/"
        },
        "id": "0LKZEQO4A4mi",
        "outputId": "f1a31379-91af-4682-912a-3d21cc08ec30"
      },
      "execution_count": 32,
      "outputs": [
        {
          "output_type": "execute_result",
          "data": {
            "text/plain": [
              "<tf.Tensor: shape=(5, 5), dtype=float32, numpy=\n",
              "array([[1., 1., 0., 0., 0.],\n",
              "       [0., 1., 1., 0., 0.],\n",
              "       [0., 0., 1., 1., 0.],\n",
              "       [0., 0., 0., 1., 1.],\n",
              "       [0., 0., 0., 0., 1.]], dtype=float32)>"
            ]
          },
          "metadata": {},
          "execution_count": 32
        }
      ]
    },
    {
      "cell_type": "code",
      "source": [
        "# Sequence mask apply in the decoder\n",
        "\n",
        "x = tf.random.uniform((3, 5)) # we assume there are 3 sentence, and length is 5\n",
        "temp1 = create_look_ahead_mask(x.shape[1])\n",
        "temp1"
      ],
      "metadata": {
        "colab": {
          "base_uri": "https://localhost:8080/"
        },
        "id": "QTZzQhzZA9Pa",
        "outputId": "51a50b96-ddfa-4dc4-cac0-fdfbda8e7d2c"
      },
      "execution_count": 33,
      "outputs": [
        {
          "output_type": "execute_result",
          "data": {
            "text/plain": [
              "<tf.Tensor: shape=(5, 5), dtype=float32, numpy=\n",
              "array([[0., 1., 1., 1., 1.],\n",
              "       [0., 0., 1., 1., 1.],\n",
              "       [0., 0., 0., 1., 1.],\n",
              "       [0., 0., 0., 0., 1.],\n",
              "       [0., 0., 0., 0., 0.]], dtype=float32)>"
            ]
          },
          "metadata": {},
          "execution_count": 33
        }
      ]
    },
    {
      "cell_type": "code",
      "source": [
        "#temp2 we create a padding_mask\n",
        "x = tf.constant([[1, 3, 2, 3, 0], [5, 2, 3, 0, 0], [7, 8, 0, 0, 0 ]])\n",
        "temp2 = create_padding_mask(x)\n",
        "temp2"
      ],
      "metadata": {
        "colab": {
          "base_uri": "https://localhost:8080/"
        },
        "id": "7SkP-HShBNe2",
        "outputId": "138446e1-686b-4f1c-bbde-fc34d9c5e710"
      },
      "execution_count": 34,
      "outputs": [
        {
          "output_type": "execute_result",
          "data": {
            "text/plain": [
              "<tf.Tensor: shape=(3, 1, 1, 5), dtype=float32, numpy=\n",
              "array([[[[0., 0., 0., 0., 1.]]],\n",
              "\n",
              "\n",
              "       [[[0., 0., 0., 1., 1.]]],\n",
              "\n",
              "\n",
              "       [[[0., 0., 1., 1., 1.]]]], dtype=float32)>"
            ]
          },
          "metadata": {},
          "execution_count": 34
        }
      ]
    },
    {
      "cell_type": "code",
      "source": [
        "#combine the temp1 and temp2, and return the maximum of them\n",
        "sequence_mask = tf.maximum(temp2, temp1)\n",
        "sequence_mask"
      ],
      "metadata": {
        "colab": {
          "base_uri": "https://localhost:8080/"
        },
        "id": "wuC3PfZbBPJJ",
        "outputId": "9179f96e-1b5d-4d21-9de3-240be512fb7b"
      },
      "execution_count": 35,
      "outputs": [
        {
          "output_type": "execute_result",
          "data": {
            "text/plain": [
              "<tf.Tensor: shape=(3, 1, 5, 5), dtype=float32, numpy=\n",
              "array([[[[0., 1., 1., 1., 1.],\n",
              "         [0., 0., 1., 1., 1.],\n",
              "         [0., 0., 0., 1., 1.],\n",
              "         [0., 0., 0., 0., 1.],\n",
              "         [0., 0., 0., 0., 1.]]],\n",
              "\n",
              "\n",
              "       [[[0., 1., 1., 1., 1.],\n",
              "         [0., 0., 1., 1., 1.],\n",
              "         [0., 0., 0., 1., 1.],\n",
              "         [0., 0., 0., 1., 1.],\n",
              "         [0., 0., 0., 1., 1.]]],\n",
              "\n",
              "\n",
              "       [[[0., 1., 1., 1., 1.],\n",
              "         [0., 0., 1., 1., 1.],\n",
              "         [0., 0., 1., 1., 1.],\n",
              "         [0., 0., 1., 1., 1.],\n",
              "         [0., 0., 1., 1., 1.]]]], dtype=float32)>"
            ]
          },
          "metadata": {},
          "execution_count": 35
        }
      ]
    },
    {
      "cell_type": "code",
      "source": [
        "def scaled_dot_product_attention(q, k, v, mask):\n",
        "    \"\"\"计算注意力权重。\n",
        "    q, k, v 必须具有匹配的前置维度。\n",
        "    k, v 必须有匹配的倒数第二个维度，例如：seq_len_k = seq_len_v。\n",
        "    虽然 mask 根据其类型（填充或前瞻）有不同的形状，\n",
        "    但是 mask 必须能进行广播转换以便求和。\n",
        "\n",
        "    参数:\n",
        "    q: 请求的形状 == (..., seq_len_q, depth)\n",
        "    k: 主键的形状 == (..., seq_len_k, depth)\n",
        "    v: 数值的形状 == (..., seq_len_v, depth_v)\n",
        "    mask: Float 张量，其形状能转换成\n",
        "          (..., seq_len_q, seq_len_k)。默认为None。\n",
        "\n",
        "    返回值:\n",
        "    输出，注意力权重\n",
        "    \"\"\"\n",
        "\n",
        "    # define and calculate the attention weight\n",
        "    matmul_qk = tf.matmul(q, k, transpose_b=True) # （batch_size, num_heads, seq_len_q, seq_len_k)\n",
        "\n",
        "    # scale matmul_qk\n",
        "    dk = tf.cast(tf.shape(k)[-1], tf.float32)\n",
        "    scaled_attention_logits = matmul_qk / tf.math.sqrt(dk)\n",
        "\n",
        "    # add the mask to the scaled tensor\n",
        "    if mask is not None:\n",
        "        scaled_attention_logits += (mask * -1e9)\n",
        "\n",
        "    # softmax is normalized on the last axis (seq_len_k) so that the scores\n",
        "    # add up to 1.\n",
        "    attention_weights = tf.nn.softmax(scaled_attention_logits, axis=-1) # （batch_size, num_heads, seq_len_q, seq_len_k)\n",
        "\n",
        "    #tf.matmul attention_weights times v\n",
        "    output = tf.matmul(attention_weights, v) # （batch_size, num_heads, seq_len_q, depth_v)\n",
        "\n",
        "    return output, attention_weights"
      ],
      "metadata": {
        "id": "ikouTvRTBSaW"
      },
      "execution_count": 36,
      "outputs": []
    },
    {
      "cell_type": "code",
      "source": [
        "class MultiHeadAttention(tf.keras.layers.Layer):\n",
        "\n",
        "    def __init__(self, d_model, num_heads): #we assume d_model=512, num_heads=8\n",
        "        super(MultiHeadAttention, self).__init__()\n",
        "        self.num_heads = num_heads\n",
        "        self.d_model = d_model\n",
        "\n",
        "        #assertion function\n",
        "        assert d_model % self.num_heads == 0\n",
        "\n",
        "        self.depth = d_model // self.num_heads # depth=64\n",
        "\n",
        "        self.wq = tf.keras.layers.Dense(d_model)\n",
        "        self.wk = tf.keras.layers.Dense(d_model)\n",
        "        self.wv = tf.keras.layers.Dense(d_model)\n",
        "\n",
        "        self.dense = tf.keras.layers.Dense(d_model)\n",
        "\n",
        "    def split_heads(self, x, batch_size): #we assume batch_size=32, x is q,k,v shape are all(batch_size, seq_len, d_model)\n",
        "        \"\"\"Split the last dimension into (num_heads, depth).\n",
        "        Transpose the result such that the shape is (batch_size, num_heads, seq_len, depth)\n",
        "        \"\"\"\n",
        "        '''分拆最后一个维度到(num_heads, depth)\n",
        "        转置结果使得形状为(batch_size, num_heads, seq_len, depth)\n",
        "        '''\n",
        "        x = tf.reshape(x, (batch_size, -1, self.num_heads, self.depth))\n",
        "        return tf.transpose(x, perm=[0, 2, 1, 3])\n",
        "\n",
        "    def call(self, v, k, q, mask):\n",
        "        batch_size = tf.shape(q)[0]\n",
        "\n",
        "        q = self.wq(q)  # (batch_size, seq_len, d_model)\n",
        "        k = self.wk(k)  # (batch_size, seq_len, d_model)\n",
        "        v = self.wv(v)  # (batch_size, seq_len, d_model)\n",
        "\n",
        "        q = self.split_heads(q, batch_size)  # (batch_size, num_heads, seq_len_q, depth)\n",
        "        k = self.split_heads(k, batch_size)  # (batch_size, num_heads, seq_len_k, depth)\n",
        "        v = self.split_heads(v, batch_size)  # (batch_size, num_heads, seq_len_v, depth)\n",
        "\n",
        "        # scaled_attention.shape == (batch_size, num_heads, seq_len_q, depth)\n",
        "        # attention_weights.shape == (batch_size, num_heads, seq_len_q, seq_len_k)\n",
        "        scaled_attention, attention_weights = scaled_dot_product_attention(\n",
        "            q, k, v, mask)\n",
        "\n",
        "        scaled_attention = tf.transpose(scaled_attention, perm=[0, 2, 1, 3])  # (batch_size, seq_len_q, num_heads, depth)\n",
        "\n",
        "        concat_attention = tf.reshape(scaled_attention,\n",
        "                                      (batch_size, -1, self.d_model))  # (batch_size, seq_len_q, d_model)\n",
        "\n",
        "        output = self.dense(concat_attention)  # (batch_size, seq_len_q, d_model)\n",
        "\n",
        "        return output, attention_weights\n",
        "\n",
        "\n"
      ],
      "metadata": {
        "id": "mEFMMkzJBXdn"
      },
      "execution_count": 37,
      "outputs": []
    },
    {
      "cell_type": "code",
      "source": [
        "#d_model must be divided evenly by num_heads\n",
        "temp_mha = MultiHeadAttention(d_model=512, num_heads=8)\n",
        "y = tf.random.uniform((32, 60, 512))  # (batch_size, encoder_sequence, d_model)\n",
        "out, attn= temp_mha(y, k=y, q=y, mask=None)\n",
        "out.shape, attn.shape"
      ],
      "metadata": {
        "colab": {
          "base_uri": "https://localhost:8080/"
        },
        "id": "sjdgQYpfl3tT",
        "outputId": "432cdb31-003a-4eea-f81e-1aa513e73700"
      },
      "execution_count": 38,
      "outputs": [
        {
          "output_type": "execute_result",
          "data": {
            "text/plain": [
              "(TensorShape([32, 60, 512]), TensorShape([32, 8, 60, 60]))"
            ]
          },
          "metadata": {},
          "execution_count": 38
        }
      ]
    },
    {
      "cell_type": "code",
      "source": [
        "# realize the above, and get the result Z\n",
        "# assume we have 2 heads\n",
        "x = tf.random.normal([2,4])\n",
        "\n",
        "wq0 = tf.random.normal([4,3])\n",
        "wk0 = tf.random.normal([4,3])\n",
        "wv0 = tf.random.normal([4,3])\n",
        "print(wq0)\n",
        "print(wk0)\n",
        "print(wv0)\n",
        "\n",
        "wq1 = tf.random.normal([4,3])\n",
        "wk1 = tf.random.normal([4,3])\n",
        "wv1 = tf.random.normal([4,3])\n",
        "print(wq1)\n",
        "print(wk1)\n",
        "print(wv1)\n",
        "\n",
        "q0 = tf.matmul(x, wq0)\n",
        "k0 = tf.matmul(x, wk0)\n",
        "v0 = tf.matmul(x, wv0)\n",
        "print(q0)\n",
        "print(k0)\n",
        "print(v0)\n",
        "\n",
        "q1 = tf.matmul(x, wq1)\n",
        "k1 = tf.matmul(x, wk1)\n",
        "v1 = tf.matmul(x, wv1)\n",
        "print(q1)\n",
        "print(k1)\n",
        "print(v1)\n",
        "\n",
        "#上面求出了q0,q1,k0,k1,v0,v1.我们进行self-attention计算\n",
        "score0 = tf.matmul(q0, k0, transpose_b=True)\n",
        "score1 = tf.matmul(q1, k1, transpose_b=True)\n",
        "divide0 = score0/tf.sqrt(2.)\n",
        "divide1 = score1/tf.sqrt(2.)\n",
        "softmax0 = tf.nn.softmax(divide0)\n",
        "softmax1 = tf.nn.softmax(divide1)\n",
        "z0 = tf.matmul(softmax0, v0)\n",
        "z1 = tf.matmul(softmax1, v1)\n",
        "concat_z0_z1 = tf.concat([z0, z1], axis=1)\n",
        "wo = tf.random.normal([6, 4])\n",
        "Z = tf.matmul(concat_z0_z1, wo)\n"
      ],
      "metadata": {
        "colab": {
          "base_uri": "https://localhost:8080/"
        },
        "id": "0imVEuBKzWi1",
        "outputId": "556f83d4-51cf-4379-a65d-b8671f5104b4"
      },
      "execution_count": 39,
      "outputs": [
        {
          "output_type": "stream",
          "name": "stdout",
          "text": [
            "tf.Tensor(\n",
            "[[ 0.46622962  0.2080252  -0.84371126]\n",
            " [ 0.80454445 -0.4703905  -0.61515003]\n",
            " [-0.41130337 -0.92221004  0.8592183 ]\n",
            " [ 0.34704027 -1.7107095  -0.03712396]], shape=(4, 3), dtype=float32)\n",
            "tf.Tensor(\n",
            "[[ 0.9348219  -1.4569345  -1.4892461 ]\n",
            " [ 1.1499858  -0.2787443   0.0275764 ]\n",
            " [ 1.0697577  -0.50963944  1.132039  ]\n",
            " [ 1.9215623   0.31058407  0.33645138]], shape=(4, 3), dtype=float32)\n",
            "tf.Tensor(\n",
            "[[-0.26877266 -0.49885225 -1.4473995 ]\n",
            " [ 0.19996443  0.70790386 -0.6599549 ]\n",
            " [ 0.5505534   0.5891746  -1.5186629 ]\n",
            " [-1.1657658  -0.5380835  -0.14188465]], shape=(4, 3), dtype=float32)\n",
            "tf.Tensor(\n",
            "[[ 0.2693474  -1.104103    1.6133176 ]\n",
            " [ 1.5124226   1.4598664  -0.22685947]\n",
            " [-0.62625355 -1.4525222  -0.86046547]\n",
            " [ 0.09839997 -0.6266672   0.9287517 ]], shape=(4, 3), dtype=float32)\n",
            "tf.Tensor(\n",
            "[[ 2.2354498   0.83556646  0.644459  ]\n",
            " [-1.2137841   0.08957743 -1.5414487 ]\n",
            " [ 0.5464072  -0.5082599   1.8049049 ]\n",
            " [-0.53800225  0.57333916 -0.5404756 ]], shape=(4, 3), dtype=float32)\n",
            "tf.Tensor(\n",
            "[[-0.1966728  -0.86936694  0.45782444]\n",
            " [ 0.48766527  1.2479094   0.22730759]\n",
            " [ 0.586218   -0.02269316  1.0989455 ]\n",
            " [-1.5412089  -0.04496105  0.9177846 ]], shape=(4, 3), dtype=float32)\n",
            "tf.Tensor(\n",
            "[[-2.2488596   2.3293617   1.8069435 ]\n",
            " [ 1.6552832  -3.202582   -0.96647424]], shape=(2, 3), dtype=float32)\n",
            "tf.Tensor(\n",
            "[[-3.60243    -0.49982518  0.22986194]\n",
            " [ 4.901951   -0.6393702   0.3017473 ]], shape=(2, 3), dtype=float32)\n",
            "tf.Tensor(\n",
            "[[ 1.4992573  -0.2694587  -0.02951412]\n",
            " [-1.2461629   0.2587118  -2.0911021 ]], shape=(2, 3), dtype=float32)\n",
            "tf.Tensor(\n",
            "[[-3.500616  -3.377351  -1.199415 ]\n",
            " [ 2.1802883  0.3794328  1.2726063]], shape=(2, 3), dtype=float32)\n",
            "tf.Tensor(\n",
            "[[ 3.7984073 -1.186414   5.225691 ]\n",
            " [-1.4892361  1.0591627 -2.151536 ]], shape=(2, 3), dtype=float32)\n",
            "tf.Tensor(\n",
            "[[ 1.4611323  -2.4883015  -0.61611956]\n",
            " [-1.3175322   1.3824174   2.0646706 ]], shape=(2, 3), dtype=float32)\n"
          ]
        }
      ]
    },
    {
      "cell_type": "code",
      "source": [
        "def point_wise_feed_forward_network(d_model, dff):\n",
        "    #d_model, the depth of the embedding\n",
        "    #dff the neural number we want to add\n",
        "    return tf.keras.Sequential([\n",
        "        tf.keras.layers.Dense(dff, activation='relu'), #(batch_size, seq_len, dff)\n",
        "        tf.keras.layers.Dense(d_model) #(batch_size, seq_len, d_model)\n",
        "    ])"
      ],
      "metadata": {
        "id": "Qi3bIJCg42wR"
      },
      "execution_count": 40,
      "outputs": []
    },
    {
      "cell_type": "code",
      "source": [
        "class EncoderLayer(tf.keras.layers.Layer):\n",
        "    # d_model we set 512 here\n",
        "    # num_heads we set 8\n",
        "    # dff we set 2048\n",
        "    # rate we add dropout in this part to prevent the overfittion\n",
        "    def __init__(self, d_model, num_heads, dff, rate=0.1):\n",
        "        super(EncoderLayer, self).__init__()\n",
        "\n",
        "        self.mha = MultiHeadAttention(d_model, num_heads) #multihead self attention\n",
        "        self.ffn = point_wise_feed_forward_network(d_model, dff) #feed forward network\n",
        "\n",
        "        #层标准化\n",
        "        self.layernorm1 = tf.keras.layers.LayerNormalization(epsilon=1e-6)\n",
        "        self.layernorm2 = tf.keras.layers.LayerNormalization(epsilon=1e-6)\n",
        "\n",
        "        #dropout层\n",
        "        self.dropout1 = tf.keras.layers.Dropout(rate)\n",
        "        self.dropout2 = tf.keras.layers.Dropout(rate)\n",
        "\n",
        "    def call(self, x, training, mask):\n",
        "\n",
        "        #get multi head attention\n",
        "        attn_output, _ = self.mha(x, x, x, mask) #(batch_size, input_seq_len, d_model)\n",
        "        #增加dropout层\n",
        "        attn_output = self.dropout1(attn_output, training=training)\n",
        "        #add x into residual calculation\n",
        "        out1 = self.layernorm1(x + attn_output) #(batch_size, input_seq_len, d_model)\n",
        "\n",
        "        #feed forward network\n",
        "        ffn_output = self.ffn(out1) #(batch_size, input_seq_len, d_model)\n",
        "        #dropout\n",
        "        ffn_output = self.dropout2(ffn_output, training=training)\n",
        "        #add x into the residual calculation, and layer normalizaitio\n",
        "        out2 = self.layernorm2(out1 + ffn_output) #(batch_size, input_seq_len, d_model)\n",
        "\n",
        "        return out2\n"
      ],
      "metadata": {
        "id": "Iz5Y3KsC42qK"
      },
      "execution_count": 41,
      "outputs": []
    },
    {
      "cell_type": "code",
      "source": [
        "# 测试encoderlayer类\n",
        "# initialize the encoder\n",
        "sample_encoder_layer = EncoderLayer(512, 8, 2048)\n",
        "\n",
        "#call the call method\n",
        "sample_encoder_layer_output = sample_encoder_layer(\n",
        "    tf.random.uniform((64, 43, 512)), False, None)\n",
        "\n",
        "sample_encoder_layer_output.shape  # (batch_size, input_seq_len, d_model)"
      ],
      "metadata": {
        "colab": {
          "base_uri": "https://localhost:8080/"
        },
        "id": "ZK_Z0Bir42in",
        "outputId": "927f6fe0-c5b8-4c51-b753-3b134ac23bb0"
      },
      "execution_count": 42,
      "outputs": [
        {
          "output_type": "execute_result",
          "data": {
            "text/plain": [
              "TensorShape([64, 43, 512])"
            ]
          },
          "metadata": {},
          "execution_count": 42
        }
      ]
    },
    {
      "cell_type": "code",
      "source": [
        "class DecoderLayer(tf.keras.layers.Layer):\n",
        "    def __init__(self, d_model, num_heads, dff, rate=0.1):\n",
        "        super(DecoderLayer, self).__init__()\n",
        "\n",
        "        # multi-head attention\n",
        "        self.mha1 = MultiHeadAttention(d_model, num_heads)\n",
        "        #combine the encoder and decoder\n",
        "        self.mha2 = MultiHeadAttention(d_model, num_heads)\n",
        "\n",
        "        #feed forward network\n",
        "        self.ffn = point_wise_feed_forward_network(d_model, dff)\n",
        "\n",
        "        #layer normalizaition\n",
        "        self.layernorm1 = tf.keras.layers.LayerNormalization(epsilon=1e-6)\n",
        "        self.layernorm2 = tf.keras.layers.LayerNormalization(epsilon=1e-6)\n",
        "        self.layernorm3 = tf.keras.layers.LayerNormalization(epsilon=1e-6)\n",
        "\n",
        "        self.dropout1 = tf.keras.layers.Dropout(rate)\n",
        "        self.dropout2 = tf.keras.layers.Dropout(rate)\n",
        "        self.dropout3 = tf.keras.layers.Dropout(rate)\n",
        "\n",
        "    def call(self, x, enc_output, training, look_ahead_mask, padding_mask):\n",
        "        # enc_output.shape == (batch_size, input_seq_len, d_model)\n",
        "\n",
        "        #decoder attention, residual, and layernorm\n",
        "        attn1, attn_weights_block1 = self.mha1(x, x, x, look_ahead_mask) #(batch_size, target_seq_len, d_model)\n",
        "        attn1 = self.dropout1(attn1, training=training)\n",
        "        out1 = self.layernorm1(attn1 + x)\n",
        "\n",
        "        #(batch_size, target_seq_len, d_model)\n",
        "        attn2, attn_weights_block2 = self.mha2(enc_output, enc_output, out1, padding_mask)\n",
        "        attn2 = self.dropout2(attn2, training=training)\n",
        "        out2 = self.layernorm2(attn2 + out1)  # (batch_size, target_seq_len, d_model)\n",
        "\n",
        "        ffn_output = self.ffn(out2)  # (batch_size, target_seq_len, d_model)\n",
        "        ffn_output = self.dropout3(ffn_output, training=training)\n",
        "        out3 = self.layernorm3(ffn_output + out2)  # (batch_size, target_seq_len, d_model)\n",
        "\n",
        "        return out3, attn_weights_block1, attn_weights_block2\n"
      ],
      "metadata": {
        "id": "8T0wWVp1APZN"
      },
      "execution_count": 43,
      "outputs": []
    },
    {
      "cell_type": "code",
      "source": [
        "sample_decoder_layer = DecoderLayer(512, 8, 2048)\n",
        "\n",
        "sample_decoder_layer_output, _, _ = sample_decoder_layer(\n",
        "    tf.random.uniform((64, 50, 512)), sample_encoder_layer_output,\n",
        "    False, None, None)\n",
        "\n",
        "sample_decoder_layer_output.shape  # (batch_size, target_seq_len, d_model)"
      ],
      "metadata": {
        "colab": {
          "base_uri": "https://localhost:8080/"
        },
        "id": "i3AWer6KAPWd",
        "outputId": "31227601-aa5b-44b2-a866-22c19be7c2e7"
      },
      "execution_count": 44,
      "outputs": [
        {
          "output_type": "execute_result",
          "data": {
            "text/plain": [
              "TensorShape([64, 50, 512])"
            ]
          },
          "metadata": {},
          "execution_count": 44
        }
      ]
    },
    {
      "cell_type": "code",
      "source": [
        "class Encoder(tf.keras.layers.Layer):\n",
        "    def __init__(self, num_layers, d_model, num_heads, dff, input_vocab_size,\n",
        "                 maximum_position_encoding, rate=0.1):\n",
        "        super(Encoder, self).__init__()\n",
        "        #num_layers, represent the number of encoderlayer\n",
        "        #d_model, represent the depth of embedding的\n",
        "        #num_heads\n",
        "        #dff\n",
        "        #input_vocab_size\n",
        "        #maximum_position_encoding\n",
        "        self.d_model = d_model\n",
        "        self.num_layers = num_layers\n",
        "\n",
        "        #embedding\n",
        "        self.embedding = tf.keras.layers.Embedding(input_vocab_size, d_model)\n",
        "        #position embadding\n",
        "        self.pos_encoding = positional_encoding(maximum_position_encoding, self.d_model)\n",
        "\n",
        "        #initialize num_layers of EncoderLayer\n",
        "        self.enc_layers = [EncoderLayer(d_model, num_heads, dff, rate) for _ in range(num_layers)]\n",
        "\n",
        "        self.dropout = tf.keras.layers.Dropout(rate)\n",
        "\n",
        "    def call(self, x, training, mask):\n",
        "        seq_len = tf.shape(x)[1] #get the longest sentence\n",
        "\n",
        "        #add the information to every word\n",
        "        x = self.embedding(x) #(batch_size, input_seq_len, d_model)\n",
        "        #x times d_moder.sqrt is to enhance semantic information and weaken positional information\n",
        "        x *= tf.math.sqrt(tf.cast(self.d_model, tf.float32))\n",
        "\n",
        "        x += self.pos_encoding[:, :seq_len, :]\n",
        "\n",
        "        x = self.dropout(x, training=training)\n",
        "\n",
        "        #loop EncoderLayer for num_layers times\n",
        "        for i in range(self.num_layers):\n",
        "            x = self.enc_layers[i](x, training, mask)\n",
        "\n",
        "        return x #(batch_size, input_seq_len, d_model)\n"
      ],
      "metadata": {
        "id": "mgFyyyr1APTw"
      },
      "execution_count": 45,
      "outputs": []
    },
    {
      "cell_type": "code",
      "source": [
        "sample_encoder = Encoder(num_layers=2, d_model=512, num_heads=8,\n",
        "                         dff=2048, input_vocab_size=8500,\n",
        "                         maximum_position_encoding=10000)\n",
        "temp_input = tf.random.uniform((64, 62), dtype=tf.int64, minval=0, maxval=200)\n",
        "\n",
        "sample_encoder_output = sample_encoder(temp_input, training=False, mask=None)\n",
        "\n",
        "print(sample_encoder_output.shape)  # (batch_size, input_seq_len, d_model)"
      ],
      "metadata": {
        "colab": {
          "base_uri": "https://localhost:8080/"
        },
        "id": "cXTNEiQaAPRL",
        "outputId": "a8251943-1b1c-4fa4-9f95-b6d10ad27f11"
      },
      "execution_count": 46,
      "outputs": [
        {
          "output_type": "stream",
          "name": "stdout",
          "text": [
            "(64, 62, 512)\n"
          ]
        }
      ]
    },
    {
      "cell_type": "code",
      "source": [
        "class Decoder(tf.keras.layers.Layer):\n",
        "    def __init__(self, num_layers, d_model, num_heads, dff, target_vocab_size,\n",
        "                 maximum_position_encoding, rate=0.1):\n",
        "        super(Decoder, self).__init__()\n",
        "\n",
        "        self.d_model = d_model\n",
        "        self.num_layers = num_layers\n",
        "\n",
        "        #embedding\n",
        "        self.embedding = tf.keras.layers.Embedding(target_vocab_size, d_model)\n",
        "        #position embadding\n",
        "        self.pos_encoding = positional_encoding(maximum_position_encoding, d_model)\n",
        "\n",
        "        # initialize num_layers DecoderLayers\n",
        "        self.dec_layers = [DecoderLayer(d_model, num_heads, dff, rate) for _ in range(num_layers)]\n",
        "\n",
        "        self.dropout = tf.keras.layers.Dropout(rate)\n",
        "\n",
        "    def call(self, x, enc_output, training, look_ahead_mask, padding_mask):\n",
        "\n",
        "        seq_len = tf.shape(x)[1] #seq_len is target_seq_len\n",
        "        attention_weights = {}\n",
        "\n",
        "        #same as encoder\n",
        "        x = self.embedding(x) #(batch_size, target_seq_len, d_model)\n",
        "\n",
        "        x *= tf.math.sqrt(tf.cast(self.d_model, tf.float32))\n",
        "\n",
        "        x += self.pos_encoding[:, :seq_len, :]\n",
        "\n",
        "        x = self.dropout(x, training=training)\n",
        "\n",
        "        for i in range(self.num_layers):\n",
        "            x, block1, block2 = self.dec_layers[i](x, enc_output, training, look_ahead_mask, padding_mask)\n",
        "\n",
        "            attention_weights[f'decoder_layer{i+1}_block1'] = block1\n",
        "            attention_weights[f'decoder_layer{i+1}_block2'] = block2\n",
        "\n",
        "        #x.shape == (batch_size, target_seq_len, d_model)\n",
        "        return x, attention_weights"
      ],
      "metadata": {
        "id": "IgHlIuSmAdFt"
      },
      "execution_count": 47,
      "outputs": []
    },
    {
      "cell_type": "code",
      "source": [
        "sample_decoder = Decoder(num_layers=2, d_model=512, num_heads=8,\n",
        "                         dff=2048, target_vocab_size=8000,\n",
        "                         maximum_position_encoding=5000)\n",
        "temp_input = tf.random.uniform((64, 26), dtype=tf.int64, minval=0, maxval=200)\n",
        "\n",
        "output, attn = sample_decoder(temp_input,\n",
        "                              enc_output=sample_encoder_output,\n",
        "                              training=False,\n",
        "                              look_ahead_mask=None,\n",
        "                              padding_mask=None)\n",
        "\n",
        "output.shape, attn['decoder_layer2_block2'].shape"
      ],
      "metadata": {
        "colab": {
          "base_uri": "https://localhost:8080/"
        },
        "id": "mYN_rkLDAe-a",
        "outputId": "d9f2d331-0a12-4375-98f7-ade34d3dcb9e"
      },
      "execution_count": 48,
      "outputs": [
        {
          "output_type": "execute_result",
          "data": {
            "text/plain": [
              "(TensorShape([64, 26, 512]), TensorShape([64, 8, 26, 62]))"
            ]
          },
          "metadata": {},
          "execution_count": 48
        }
      ]
    },
    {
      "cell_type": "code",
      "source": [
        "class Transformer(tf.keras.Model):\n",
        "    #define transformer with num_layers, d_model, num_heads, dff,input_vocab_size,target_vocab_size,pe_input,pe_target\n",
        "\n",
        "    def __init__(self, num_layers, d_model, num_heads, dff, input_vocab_size,\n",
        "                 target_vocab_size, pe_input, pe_target, rate=0.1):\n",
        "\n",
        "        super().__init__()\n",
        "\n",
        "        #transformer encoder\n",
        "        self.encoder = Encoder(num_layers, d_model, num_heads, dff, input_vocab_size, pe_input, rate)\n",
        "        #transformer decoder\n",
        "        self.decoder = Decoder(num_layers, d_model, num_heads, dff, target_vocab_size, pe_target, rate)\n",
        "        self.final_layer = tf.keras.layers.Dense(target_vocab_size)\n",
        "\n",
        "    def call(self, inputs, training):\n",
        "        # Keras models prefer if you pass all your inputs in the first argument\n",
        "        inp, tar = inputs\n",
        "\n",
        "        #create masks\n",
        "        enc_padding_mask, look_ahead_mask, dec_padding_mask = self.create_masks(inp, tar)\n",
        "\n",
        "        enc_output = self.encoder(inp, training, enc_padding_mask) #(batch_size, inp_seq_len, d_model)\n",
        "\n",
        "        # dec_output.shape == (batch_size, tar_seq_len, d_model)\n",
        "        dec_output, attention_weights = self.decoder(\n",
        "            tar, enc_output, training, look_ahead_mask, dec_padding_mask)\n",
        "\n",
        "        final_output = self.final_layer(dec_output) #(batch_size, tar_seq_len, target_vocab_size)\n",
        "\n",
        "        return final_output, attention_weights\n",
        "\n",
        "    def create_masks(self, inp, tar):\n",
        "        #Encoder padding mask\n",
        "        enc_padding_mask = create_padding_mask(inp) #（batch_size, 1, 1, inp_seq_len)\n",
        "\n",
        "        #Used in the 2nd attention block in the decoder.\n",
        "        #This padding mask is used to mask the encoder outputs.\n",
        "        dec_padding_mask = create_padding_mask(inp) #（batch_size, 1, 1, inp_seq_len)\n",
        "\n",
        "        # Used in the 1st attention block in the decoder.\n",
        "        # It is used to pad and mask future tokens in the input received by\n",
        "        # the decoder.\n",
        "        look_ahead_mask = create_look_ahead_mask(tf.shape(tar)[1]) #(tar_seq_len, tar_seq_len)\n",
        "        dec_target_padding_mask = create_padding_mask(tar) #(batch_size, 1, 1, tar_seq_len)\n",
        "        #tf.maximum(x,y) return the maximum of  x and y\n",
        "        look_ahead_mask = tf.maximum(dec_target_padding_mask, look_ahead_mask) #（batch_size, 1, tar_seq_len, tar_seq_len)\n",
        "\n",
        "        return enc_padding_mask, look_ahead_mask, dec_padding_mask\n"
      ],
      "metadata": {
        "id": "yqIcIbflAnIX"
      },
      "execution_count": 49,
      "outputs": []
    },
    {
      "cell_type": "code",
      "source": [
        "sample_transformer = Transformer(\n",
        "    num_layers=2, d_model=512, num_heads=8, dff=2048,\n",
        "    input_vocab_size=8500, target_vocab_size=8000,\n",
        "    pe_input=10000, pe_target=6000)\n",
        "\n",
        "temp_input = tf.random.uniform((1, 38), dtype=tf.int64, minval=0, maxval=200)\n",
        "temp_target = tf.random.uniform((1, 4), dtype=tf.int64, minval=0, maxval=200)\n",
        "\n",
        "fn_out, _ = sample_transformer([temp_input, temp_target], training=False)\n",
        "\n",
        "fn_out.shape  # (batch_size, tar_seq_len, target_vocab_size)"
      ],
      "metadata": {
        "colab": {
          "base_uri": "https://localhost:8080/"
        },
        "id": "yy5mgKzXApVT",
        "outputId": "e2546ae3-e17f-4363-8475-bb56eba49599"
      },
      "execution_count": 50,
      "outputs": [
        {
          "output_type": "execute_result",
          "data": {
            "text/plain": [
              "TensorShape([1, 4, 8000])"
            ]
          },
          "metadata": {},
          "execution_count": 50
        }
      ]
    },
    {
      "cell_type": "code",
      "source": [
        "num_layers = 4\n",
        "d_model = 128\n",
        "dff = 512\n",
        "num_heads = 8\n",
        "dropout_rate = 0.1"
      ],
      "metadata": {
        "id": "c_5E1unpCWpp"
      },
      "execution_count": 51,
      "outputs": []
    },
    {
      "cell_type": "code",
      "source": [
        "class CustomSchedule(tf.keras.optimizers.schedules.LearningRateSchedule):\n",
        "    def __init__(self, d_model, warmup_steps=4000):\n",
        "        super(CustomSchedule, self).__init__()\n",
        "\n",
        "        self.d_model = d_model\n",
        "        self.d_model = tf.cast(self.d_model, tf.float32)\n",
        "\n",
        "        self.warmup_steps = warmup_steps\n",
        "\n",
        "    def __call__(self, step):\n",
        "        step = tf.cast(step, tf.float32)  # step is float32\n",
        "        #step is step_num, arg1 is the value continuously decrease\n",
        "        arg1 = tf.math.rsqrt(step)\n",
        "        #arg2 is the value continusously increase\n",
        "        arg2 = step * (self.warmup_steps ** -1.5)\n",
        "\n",
        "        #arg1 > arg2 at the beginning, when warmup_steps(4000), arg1 == arg2, when 4001, arg1 < arg2\n",
        "        return tf.math.rsqrt(self.d_model) * tf.math.minimum(arg1, arg2)"
      ],
      "metadata": {
        "id": "fZJ8fUohCbzG"
      },
      "execution_count": 52,
      "outputs": []
    },
    {
      "cell_type": "code",
      "source": [
        "temp_learning_rate_scheldule = CustomSchedule(d_model)\n",
        "\n",
        "plt.plot(temp_learning_rate_scheldule(tf.range(40000, dtype=tf.float32)))\n",
        "plt.ylabel(\"Learning Rate\")\n",
        "plt.xlabel(\"Train Step\")"
      ],
      "metadata": {
        "colab": {
          "base_uri": "https://localhost:8080/",
          "height": 467
        },
        "id": "YNRHsy-mCdO_",
        "outputId": "8d85228b-e1ed-4392-df44-48b30ddadb1e"
      },
      "execution_count": 53,
      "outputs": [
        {
          "output_type": "execute_result",
          "data": {
            "text/plain": [
              "Text(0.5, 0, 'Train Step')"
            ]
          },
          "metadata": {},
          "execution_count": 53
        },
        {
          "output_type": "display_data",
          "data": {
            "text/plain": [
              "<Figure size 640x480 with 1 Axes>"
            ],
            "image/png": "[encoded data removed]"
          },
          "metadata": {}
        }
      ]
    },
    {
      "cell_type": "code",
      "source": [
        "learning_rate = CustomSchedule(d_model)\n",
        "#optimizer\n",
        "optimizer = tf.keras.optimizers.Adam(learning_rate, beta_1=0.9, beta_2=0.98, epsilon=1e-9)\n"
      ],
      "metadata": {
        "id": "8X3RQXSLCfBi"
      },
      "execution_count": 54,
      "outputs": []
    },
    {
      "cell_type": "code",
      "source": [
        "#Sparse cross-entropy loss function\n",
        "loss_object = tf.keras.losses.SparseCategoricalCrossentropy(\n",
        "    from_logits=True, reduction='none')"
      ],
      "metadata": {
        "id": "AEYFKc_SCnY-"
      },
      "execution_count": 55,
      "outputs": []
    },
    {
      "cell_type": "code",
      "source": [
        "def loss_function(real, pred):\n",
        "    #real 真实值 shape （batch_size, target_seq_len)\n",
        "    #这里的target_seq_len 要去掉句子开头的start, 所以实际长度要减一\n",
        "    #pred 预测值 shape （batch_size, tar_seq_len, target_vocab_size)\n",
        "    #预测值里的tar_seq_len是没有start的，因为start是作为预测的输入，\n",
        "    #而输出是start后面的第一个单词\n",
        "\n",
        "    #tf.math.equal(real,0) 0 is true，not 0 is false\n",
        "    #tf.math.logical_not(tf.math.equal(real, 0)) change true into false， false into true\n",
        "    mask = tf.math.logical_not(tf.math.equal(real, 0))\n",
        "\n",
        "    #get the loss\n",
        "    loss_ = loss_object(real, pred)\n",
        "\n",
        "    #change the data type\n",
        "    mask = tf.cast(mask, dtype=loss_.dtype)\n",
        "\n",
        "    #delete mask values,\n",
        "    loss_ *= mask\n",
        "\n",
        "    #the average of loss\n",
        "    return tf.reduce_sum(loss_)/tf.reduce_sum(mask)"
      ],
      "metadata": {
        "id": "HEWS8zRdCpNx"
      },
      "execution_count": 56,
      "outputs": []
    },
    {
      "cell_type": "code",
      "source": [
        "def accuracy_function(real, pred):\n",
        "    #real (batch_size, target_seq_len) target_seq_len == loss real\n",
        "    #pred (batch_size, tar_seq_len, target_vocab_size)\n",
        "    #tar_seq_len == target_seq_len\n",
        "\n",
        "    #tf.argmax 取pred里的最大值，axis=2 表示取第3个维度target_vocab_size里的最大值\n",
        "    #最后shape为（batch_size, tar_seq_len)\n",
        "    #tf.equal 就是拿real和刚取了最大值的pred进行比较\n",
        "    #值相等的单词就是true 否则为false\n",
        "    accuracies = tf.equal(real, tf.argmax(pred, axis=2))\n",
        "\n",
        "    mask = tf.math.logical_not(tf.math.equal(real,0))\n",
        "\n",
        "    #if mask == accuracies: true else: false\n",
        "    accuracies = tf.math.logical_and(mask, accuracies)\n",
        "\n",
        "    accuracies = tf.cast(accuracies, dtype=tf.float32)\n",
        "    mask = tf.cast(mask, dtype=tf.float32)\n",
        "\n",
        "    #tf.reduce_sum(accuracies) how many word that is predicted correct\n",
        "    #tf.reduce_sum(mask) how many word in total\n",
        "    return tf.reduce_sum(accuracies)/tf.reduce_sum(mask)\n",
        "\n",
        "# loss and  accuracy\n",
        "train_loss = tf.keras.metrics.Mean(name='train_loss')\n",
        "train_accuracy = tf.keras.metrics.Mean(name='train_accuracy')"
      ],
      "metadata": {
        "id": "1SZVyEcDCrD-"
      },
      "execution_count": 57,
      "outputs": []
    },
    {
      "cell_type": "code",
      "source": [
        "input_text_processor.vocabulary_size()  #input size\n",
        "output_text_processor.vocabulary_size() #output size\n"
      ],
      "metadata": {
        "colab": {
          "base_uri": "https://localhost:8080/"
        },
        "id": "jq-uD8odCu6_",
        "outputId": "65ddaff6-409b-4a5e-f72d-9789a177ff8f"
      },
      "execution_count": 58,
      "outputs": [
        {
          "output_type": "execute_result",
          "data": {
            "text/plain": [
              "7180"
            ]
          },
          "metadata": {},
          "execution_count": 58
        }
      ]
    },
    {
      "cell_type": "code",
      "source": [
        "# initialize Transformer\n",
        "#num_layers, 表示decodrlayer部件要有几个\n",
        "#d_model, 表示embedding的深度是多少\n",
        "#num_heads 表示多头注意力里面的多头数是多少\n",
        "#dff 表示增加非线性时设置的神经元个数\n",
        "#input_vocab_size 输入的词典大小\n",
        "#target_vocab_size 输出的词典大小\n",
        "#这里的pe_input 就是前面的maximum_position_encoding 最大句子的长度 这里是输入句子的最大长度\n",
        "#这里的pe_target 就是前面的maximum_position_encoding 最大句子的长度 这里是输出句子的最大长度\n",
        "\n",
        "transformer = Transformer(\n",
        "    num_layers=num_layers,\n",
        "    d_model=d_model,\n",
        "    num_heads=num_heads,\n",
        "    dff=dff,\n",
        "    input_vocab_size=input_text_processor.vocabulary_size(),\n",
        "    target_vocab_size=output_text_processor.vocabulary_size(),\n",
        "    pe_input=1000,\n",
        "    pe_target=1000,\n",
        "    rate=dropout_rate)"
      ],
      "metadata": {
        "id": "WaSn5GSYC1G_"
      },
      "execution_count": 59,
      "outputs": []
    },
    {
      "cell_type": "code",
      "source": [
        "checkpoint_path = \"./checkpoints/cn_en/train\" #检测文件保存位置\n",
        "\n",
        "#the content stored in check point\n",
        "ckpt = tf.train.Checkpoint(transformer=transformer,\n",
        "                           optimizer=optimizer)\n",
        "#max_to_keep=5\n",
        "ckpt_manager = tf.train.CheckpointManager(ckpt, checkpoint_path, max_to_keep=5)\n",
        "\n",
        "#recover the newest check point\n",
        "if ckpt_manager.latest_checkpoint:\n",
        "    ckpt.restore(ckpt_manager.latest_checkpoint)\n",
        "    print('Latest checkpoint restored!!')"
      ],
      "metadata": {
        "id": "5M_lbcz2C1EU"
      },
      "execution_count": 60,
      "outputs": []
    },
    {
      "cell_type": "code",
      "source": [
        "EPOCHS = 20\n"
      ],
      "metadata": {
        "id": "UV2Azw-JC1Bw"
      },
      "execution_count": 61,
      "outputs": []
    },
    {
      "cell_type": "code",
      "source": [
        "#define train_step_signature\n",
        "#列表里含有2个被tf.TensorSpec定义的张量\n",
        "train_step_signature = [\n",
        "    tf.TensorSpec(shape=(None, None), dtype=tf.int64),\n",
        "    tf.TensorSpec(shape=(None, None), dtype=tf.int64),\n",
        "]\n",
        "train_step_signature"
      ],
      "metadata": {
        "colab": {
          "base_uri": "https://localhost:8080/"
        },
        "id": "NtAxuClQC8n0",
        "outputId": "be8b2fa4-a36c-4fe7-cbfa-878dd74b70d2"
      },
      "execution_count": 62,
      "outputs": [
        {
          "output_type": "execute_result",
          "data": {
            "text/plain": [
              "[TensorSpec(shape=(None, None), dtype=tf.int64, name=None),\n",
              " TensorSpec(shape=(None, None), dtype=tf.int64, name=None)]"
            ]
          },
          "metadata": {},
          "execution_count": 62
        }
      ]
    },
    {
      "cell_type": "code",
      "source": [
        "#input_signature的好处：\n",
        "#1.可以限定函数的输入类型，以防止调用函数时调错，\n",
        "#2．一个函数有了input_signature之后，在tensorflow里边才可以保存成savedmodel。\n",
        "#在保存成savedmodel的过程中，需要使用get_concrete_function函数把一个tf.function\n",
        "#标注的普通的python函数变成带有图定义的函数。\n",
        "\n",
        "# tf.function 模块\n",
        "#我们仅需加入一个简单的 @tf.function 修饰符，就能轻松将模型以图模式运行！\n",
        "\n",
        "@tf.function(input_signature=train_step_signature)\n",
        "def train_step(inp, tar):\n",
        "    tar_inp = tar[:, :-1]\n",
        "    tar_real = tar[:, 1:]\n",
        "\n",
        "    #tf.GradientTape() used to calculate the gradient\n",
        "    with tf.GradientTape() as tape:\n",
        "        #get predicted values\n",
        "        predictions, _ = transformer([inp, tar_inp], training=True)\n",
        "        #get loss\n",
        "        loss = loss_function(tar_real, predictions)\n",
        "    #calculate the gradient\n",
        "    gradients = tape.gradient(loss, transformer.trainable_variables)\n",
        "    #apply gradient\n",
        "    optimizer.apply_gradients(zip(gradients, transformer.trainable_variables))\n",
        "\n",
        "    #calculate the loss and accuracy\n",
        "    train_loss(loss)\n",
        "    train_accuracy(accuracy_function(tar_real, predictions))"
      ],
      "metadata": {
        "id": "Zlq_7EaJC-1I"
      },
      "execution_count": 63,
      "outputs": []
    },
    {
      "cell_type": "code",
      "source": [
        "for epoch in range(EPOCHS): #train the data for 20 epochs\n",
        "    start = time.time()\n",
        "\n",
        "    #initialize the loss and accuracy\n",
        "    train_loss.reset_states()\n",
        "    train_accuracy.reset_states()\n",
        "\n",
        "    # inp -> China, tar -> english\n",
        "    for (batch, (inp, tar)) in enumerate(train_batches):\n",
        "        train_step(inp, tar)\n",
        "        #every 50 batch print one loss和accuray\n",
        "        if batch % 50 == 0:\n",
        "            print(f'Epoch {epoch + 1} Batch {batch} Loss {train_loss.result():.4f} Accuracy {train_accuracy.result():.4f}')\n",
        "    #every 5个epoch store a check point\n",
        "    if (epoch + 1) % 5 == 0:\n",
        "        ckpt_save_path = ckpt_manager.save()\n",
        "        print(f'Saving checkpoint for epoch {epoch+1} at {ckpt_save_path}')\n",
        "    #after every epoch, print the loss and accuracy\n",
        "    print(f'Epoch {epoch + 1} Loss {train_loss.result():.4f} Accuracy {train_accuracy.result():.4f}')\n",
        "    #print the training time of every epoch\n",
        "    print(f'Time taken for 1 epoch: {time.time() - start:.2f} secs\\n')"
      ],
      "metadata": {
        "colab": {
          "base_uri": "https://localhost:8080/"
        },
        "id": "Gfpv8XcRDAxA",
        "outputId": "a170ee26-4167-4d16-cef9-ccf2131659cf"
      },
      "execution_count": 64,
      "outputs": [
        {
          "output_type": "stream",
          "name": "stdout",
          "text": [
            "Epoch 1 Batch 0 Loss 8.9026 Accuracy 0.0000\n",
            "Epoch 1 Batch 50 Loss 8.8054 Accuracy 0.0218\n",
            "Epoch 1 Batch 100 Loss 8.6600 Accuracy 0.0709\n",
            "Epoch 1 Batch 150 Loss 8.5137 Accuracy 0.0882\n",
            "Epoch 1 Batch 200 Loss 8.3441 Accuracy 0.0968\n",
            "Epoch 1 Batch 250 Loss 8.1402 Accuracy 0.1078\n",
            "Epoch 1 Batch 300 Loss 7.9108 Accuracy 0.1266\n",
            "Epoch 1 Batch 350 Loss 7.6733 Accuracy 0.1411\n",
            "Epoch 1 Batch 400 Loss 7.4394 Accuracy 0.1517\n",
            "Epoch 1 Batch 450 Loss 7.2218 Accuracy 0.1608\n",
            "Epoch 1 Loss 7.1513 Accuracy 0.1644\n",
            "Time taken for 1 epoch: 75.40 secs\n",
            "\n",
            "Epoch 2 Batch 0 Loss 5.2011 Accuracy 0.2777\n",
            "Epoch 2 Batch 50 Loss 5.1676 Accuracy 0.2739\n",
            "Epoch 2 Batch 100 Loss 5.0694 Accuracy 0.2788\n",
            "Epoch 2 Batch 150 Loss 4.9826 Accuracy 0.2850\n",
            "Epoch 2 Batch 200 Loss 4.9059 Accuracy 0.2916\n",
            "Epoch 2 Batch 250 Loss 4.8340 Accuracy 0.2991\n",
            "Epoch 2 Batch 300 Loss 4.7632 Accuracy 0.3060\n",
            "Epoch 2 Batch 350 Loss 4.7027 Accuracy 0.3110\n",
            "Epoch 2 Batch 400 Loss 4.6450 Accuracy 0.3162\n",
            "Epoch 2 Batch 450 Loss 4.5941 Accuracy 0.3209\n",
            "Epoch 2 Loss 4.5747 Accuracy 0.3226\n",
            "Time taken for 1 epoch: 30.73 secs\n",
            "\n",
            "Epoch 3 Batch 0 Loss 4.1554 Accuracy 0.3538\n",
            "Epoch 3 Batch 50 Loss 4.0158 Accuracy 0.3683\n",
            "Epoch 3 Batch 100 Loss 3.9679 Accuracy 0.3730\n",
            "Epoch 3 Batch 150 Loss 3.9271 Accuracy 0.3770\n",
            "Epoch 3 Batch 200 Loss 3.9040 Accuracy 0.3792\n",
            "Epoch 3 Batch 250 Loss 3.8760 Accuracy 0.3820\n",
            "Epoch 3 Batch 300 Loss 3.8557 Accuracy 0.3839\n",
            "Epoch 3 Batch 350 Loss 3.8341 Accuracy 0.3864\n",
            "Epoch 3 Batch 400 Loss 3.8106 Accuracy 0.3889\n",
            "Epoch 3 Batch 450 Loss 3.7872 Accuracy 0.3912\n",
            "Epoch 3 Loss 3.7801 Accuracy 0.3919\n",
            "Time taken for 1 epoch: 36.48 secs\n",
            "\n",
            "Epoch 4 Batch 0 Loss 3.4709 Accuracy 0.4237\n",
            "Epoch 4 Batch 50 Loss 3.4692 Accuracy 0.4165\n",
            "Epoch 4 Batch 100 Loss 3.4638 Accuracy 0.4191\n",
            "Epoch 4 Batch 150 Loss 3.4539 Accuracy 0.4202\n",
            "Epoch 4 Batch 200 Loss 3.4392 Accuracy 0.4214\n",
            "Epoch 4 Batch 250 Loss 3.4306 Accuracy 0.4221\n",
            "Epoch 4 Batch 300 Loss 3.4199 Accuracy 0.4229\n",
            "Epoch 4 Batch 350 Loss 3.4039 Accuracy 0.4253\n",
            "Epoch 4 Batch 400 Loss 3.3923 Accuracy 0.4271\n",
            "Epoch 4 Batch 450 Loss 3.3774 Accuracy 0.4290\n",
            "Epoch 4 Loss 3.3741 Accuracy 0.4294\n",
            "Time taken for 1 epoch: 29.10 secs\n",
            "\n",
            "Epoch 5 Batch 0 Loss 3.1458 Accuracy 0.4350\n",
            "Epoch 5 Batch 50 Loss 3.1074 Accuracy 0.4516\n",
            "Epoch 5 Batch 100 Loss 3.1036 Accuracy 0.4532\n",
            "Epoch 5 Batch 150 Loss 3.1032 Accuracy 0.4537\n",
            "Epoch 5 Batch 200 Loss 3.0925 Accuracy 0.4549\n",
            "Epoch 5 Batch 250 Loss 3.0847 Accuracy 0.4561\n",
            "Epoch 5 Batch 300 Loss 3.0759 Accuracy 0.4573\n",
            "Epoch 5 Batch 350 Loss 3.0699 Accuracy 0.4582\n",
            "Epoch 5 Batch 400 Loss 3.0607 Accuracy 0.4594\n",
            "Epoch 5 Batch 450 Loss 3.0536 Accuracy 0.4605\n",
            "Saving checkpoint for epoch 5 at ./checkpoints/cn_en/train/ckpt-1\n",
            "Epoch 5 Loss 3.0517 Accuracy 0.4610\n",
            "Time taken for 1 epoch: 27.33 secs\n",
            "\n",
            "Epoch 6 Batch 0 Loss 2.8389 Accuracy 0.4878\n",
            "Epoch 6 Batch 50 Loss 2.8272 Accuracy 0.4838\n",
            "Epoch 6 Batch 100 Loss 2.7979 Accuracy 0.4863\n",
            "Epoch 6 Batch 150 Loss 2.7849 Accuracy 0.4878\n",
            "Epoch 6 Batch 200 Loss 2.7813 Accuracy 0.4887\n",
            "Epoch 6 Batch 250 Loss 2.7766 Accuracy 0.4904\n",
            "Epoch 6 Batch 300 Loss 2.7742 Accuracy 0.4916\n",
            "Epoch 6 Batch 350 Loss 2.7600 Accuracy 0.4939\n",
            "Epoch 6 Batch 400 Loss 2.7509 Accuracy 0.4957\n",
            "Epoch 6 Batch 450 Loss 2.7416 Accuracy 0.4980\n",
            "Epoch 6 Loss 2.7393 Accuracy 0.4985\n",
            "Time taken for 1 epoch: 31.86 secs\n",
            "\n",
            "Epoch 7 Batch 0 Loss 2.5019 Accuracy 0.5393\n",
            "Epoch 7 Batch 50 Loss 2.4157 Accuracy 0.5401\n",
            "Epoch 7 Batch 100 Loss 2.4330 Accuracy 0.5369\n",
            "Epoch 7 Batch 150 Loss 2.4413 Accuracy 0.5359\n",
            "Epoch 7 Batch 200 Loss 2.4380 Accuracy 0.5364\n",
            "Epoch 7 Batch 250 Loss 2.4434 Accuracy 0.5363\n",
            "Epoch 7 Batch 300 Loss 2.4387 Accuracy 0.5380\n",
            "Epoch 7 Batch 350 Loss 2.4418 Accuracy 0.5386\n",
            "Epoch 7 Batch 400 Loss 2.4339 Accuracy 0.5399\n",
            "Epoch 7 Batch 450 Loss 2.4283 Accuracy 0.5410\n",
            "Epoch 7 Loss 2.4255 Accuracy 0.5417\n",
            "Time taken for 1 epoch: 27.31 secs\n",
            "\n",
            "Epoch 8 Batch 0 Loss 2.1532 Accuracy 0.5588\n",
            "Epoch 8 Batch 50 Loss 2.1029 Accuracy 0.5823\n",
            "Epoch 8 Batch 100 Loss 2.1128 Accuracy 0.5823\n",
            "Epoch 8 Batch 150 Loss 2.1378 Accuracy 0.5788\n",
            "Epoch 8 Batch 200 Loss 2.1361 Accuracy 0.5790\n",
            "Epoch 8 Batch 250 Loss 2.1430 Accuracy 0.5789\n",
            "Epoch 8 Batch 300 Loss 2.1478 Accuracy 0.5791\n",
            "Epoch 8 Batch 350 Loss 2.1497 Accuracy 0.5802\n",
            "Epoch 8 Batch 400 Loss 2.1554 Accuracy 0.5798\n",
            "Epoch 8 Batch 450 Loss 2.1574 Accuracy 0.5803\n",
            "Epoch 8 Loss 2.1586 Accuracy 0.5806\n",
            "Time taken for 1 epoch: 26.33 secs\n",
            "\n",
            "Epoch 9 Batch 0 Loss 1.8959 Accuracy 0.6031\n",
            "Epoch 9 Batch 50 Loss 1.8465 Accuracy 0.6210\n",
            "Epoch 9 Batch 100 Loss 1.8785 Accuracy 0.6169\n",
            "Epoch 9 Batch 150 Loss 1.8916 Accuracy 0.6155\n",
            "Epoch 9 Batch 200 Loss 1.9076 Accuracy 0.6133\n",
            "Epoch 9 Batch 250 Loss 1.9130 Accuracy 0.6129\n",
            "Epoch 9 Batch 300 Loss 1.9115 Accuracy 0.6137\n",
            "Epoch 9 Batch 350 Loss 1.9207 Accuracy 0.6131\n",
            "Epoch 9 Batch 400 Loss 1.9242 Accuracy 0.6130\n",
            "Epoch 9 Batch 450 Loss 1.9288 Accuracy 0.6128\n",
            "Epoch 9 Loss 1.9291 Accuracy 0.6130\n",
            "Time taken for 1 epoch: 26.16 secs\n",
            "\n",
            "Epoch 10 Batch 0 Loss 1.6922 Accuracy 0.6523\n",
            "Epoch 10 Batch 50 Loss 1.6455 Accuracy 0.6558\n",
            "Epoch 10 Batch 100 Loss 1.6630 Accuracy 0.6510\n",
            "Epoch 10 Batch 150 Loss 1.6696 Accuracy 0.6500\n",
            "Epoch 10 Batch 200 Loss 1.6757 Accuracy 0.6495\n",
            "Epoch 10 Batch 250 Loss 1.6826 Accuracy 0.6488\n",
            "Epoch 10 Batch 300 Loss 1.6918 Accuracy 0.6480\n",
            "Epoch 10 Batch 350 Loss 1.6962 Accuracy 0.6479\n",
            "Epoch 10 Batch 400 Loss 1.7061 Accuracy 0.6472\n",
            "Epoch 10 Batch 450 Loss 1.7099 Accuracy 0.6471\n",
            "Saving checkpoint for epoch 10 at ./checkpoints/cn_en/train/ckpt-2\n",
            "Epoch 10 Loss 1.7112 Accuracy 0.6472\n",
            "Time taken for 1 epoch: 27.44 secs\n",
            "\n",
            "Epoch 11 Batch 0 Loss 1.4030 Accuracy 0.6862\n",
            "Epoch 11 Batch 50 Loss 1.3932 Accuracy 0.6945\n",
            "Epoch 11 Batch 100 Loss 1.4308 Accuracy 0.6881\n",
            "Epoch 11 Batch 150 Loss 1.4597 Accuracy 0.6844\n",
            "Epoch 11 Batch 200 Loss 1.4788 Accuracy 0.6819\n",
            "Epoch 11 Batch 250 Loss 1.4883 Accuracy 0.6807\n",
            "Epoch 11 Batch 300 Loss 1.5039 Accuracy 0.6789\n",
            "Epoch 11 Batch 350 Loss 1.5099 Accuracy 0.6784\n",
            "Epoch 11 Batch 400 Loss 1.5136 Accuracy 0.6787\n",
            "Epoch 11 Batch 450 Loss 1.5188 Accuracy 0.6781\n",
            "Epoch 11 Loss 1.5228 Accuracy 0.6778\n",
            "Time taken for 1 epoch: 29.06 secs\n",
            "\n",
            "Epoch 12 Batch 0 Loss 1.3179 Accuracy 0.7116\n",
            "Epoch 12 Batch 50 Loss 1.2622 Accuracy 0.7182\n",
            "Epoch 12 Batch 100 Loss 1.2861 Accuracy 0.7137\n",
            "Epoch 12 Batch 150 Loss 1.2972 Accuracy 0.7122\n",
            "Epoch 12 Batch 200 Loss 1.3098 Accuracy 0.7105\n",
            "Epoch 12 Batch 250 Loss 1.3238 Accuracy 0.7096\n",
            "Epoch 12 Batch 300 Loss 1.3348 Accuracy 0.7081\n",
            "Epoch 12 Batch 350 Loss 1.3452 Accuracy 0.7067\n",
            "Epoch 12 Batch 400 Loss 1.3558 Accuracy 0.7053\n",
            "Epoch 12 Batch 450 Loss 1.3618 Accuracy 0.7050\n",
            "Epoch 12 Loss 1.3655 Accuracy 0.7046\n",
            "Time taken for 1 epoch: 26.11 secs\n",
            "\n",
            "Epoch 13 Batch 0 Loss 1.1756 Accuracy 0.7267\n",
            "Epoch 13 Batch 50 Loss 1.1669 Accuracy 0.7348\n",
            "Epoch 13 Batch 100 Loss 1.1526 Accuracy 0.7377\n",
            "Epoch 13 Batch 150 Loss 1.1711 Accuracy 0.7345\n",
            "Epoch 13 Batch 200 Loss 1.1850 Accuracy 0.7323\n",
            "Epoch 13 Batch 250 Loss 1.1938 Accuracy 0.7310\n",
            "Epoch 13 Batch 300 Loss 1.2102 Accuracy 0.7280\n",
            "Epoch 13 Batch 350 Loss 1.2235 Accuracy 0.7266\n",
            "Epoch 13 Batch 400 Loss 1.2314 Accuracy 0.7259\n",
            "Epoch 13 Batch 450 Loss 1.2408 Accuracy 0.7247\n",
            "Epoch 13 Loss 1.2432 Accuracy 0.7246\n",
            "Time taken for 1 epoch: 25.73 secs\n",
            "\n",
            "Epoch 14 Batch 0 Loss 0.9827 Accuracy 0.7616\n",
            "Epoch 14 Batch 50 Loss 1.0057 Accuracy 0.7632\n",
            "Epoch 14 Batch 100 Loss 1.0278 Accuracy 0.7600\n",
            "Epoch 14 Batch 150 Loss 1.0500 Accuracy 0.7564\n",
            "Epoch 14 Batch 200 Loss 1.0676 Accuracy 0.7534\n",
            "Epoch 14 Batch 250 Loss 1.0754 Accuracy 0.7523\n",
            "Epoch 14 Batch 300 Loss 1.0899 Accuracy 0.7500\n",
            "Epoch 14 Batch 350 Loss 1.1042 Accuracy 0.7479\n",
            "Epoch 14 Batch 400 Loss 1.1166 Accuracy 0.7457\n",
            "Epoch 14 Batch 450 Loss 1.1281 Accuracy 0.7445\n",
            "Epoch 14 Loss 1.1318 Accuracy 0.7442\n",
            "Time taken for 1 epoch: 26.16 secs\n",
            "\n",
            "Epoch 15 Batch 0 Loss 1.1424 Accuracy 0.7411\n",
            "Epoch 15 Batch 50 Loss 0.9405 Accuracy 0.7745\n",
            "Epoch 15 Batch 100 Loss 0.9498 Accuracy 0.7738\n",
            "Epoch 15 Batch 150 Loss 0.9641 Accuracy 0.7718\n",
            "Epoch 15 Batch 200 Loss 0.9812 Accuracy 0.7685\n",
            "Epoch 15 Batch 250 Loss 0.9916 Accuracy 0.7670\n",
            "Epoch 15 Batch 300 Loss 1.0028 Accuracy 0.7653\n",
            "Epoch 15 Batch 350 Loss 1.0145 Accuracy 0.7637\n",
            "Epoch 15 Batch 400 Loss 1.0273 Accuracy 0.7616\n",
            "Epoch 15 Batch 450 Loss 1.0341 Accuracy 0.7609\n",
            "Saving checkpoint for epoch 15 at ./checkpoints/cn_en/train/ckpt-3\n",
            "Epoch 15 Loss 1.0384 Accuracy 0.7603\n",
            "Time taken for 1 epoch: 27.00 secs\n",
            "\n",
            "Epoch 16 Batch 0 Loss 0.9088 Accuracy 0.8193\n",
            "Epoch 16 Batch 50 Loss 0.8510 Accuracy 0.7933\n",
            "Epoch 16 Batch 100 Loss 0.8625 Accuracy 0.7903\n",
            "Epoch 16 Batch 150 Loss 0.8755 Accuracy 0.7886\n",
            "Epoch 16 Batch 200 Loss 0.8892 Accuracy 0.7858\n",
            "Epoch 16 Batch 250 Loss 0.9004 Accuracy 0.7843\n",
            "Epoch 16 Batch 300 Loss 0.9130 Accuracy 0.7820\n",
            "Epoch 16 Batch 350 Loss 0.9266 Accuracy 0.7798\n",
            "Epoch 16 Batch 400 Loss 0.9397 Accuracy 0.7777\n",
            "Epoch 16 Batch 450 Loss 0.9483 Accuracy 0.7769\n",
            "Epoch 16 Loss 0.9520 Accuracy 0.7763\n",
            "Time taken for 1 epoch: 26.57 secs\n",
            "\n",
            "Epoch 17 Batch 0 Loss 0.7192 Accuracy 0.8337\n",
            "Epoch 17 Batch 50 Loss 0.7857 Accuracy 0.8074\n",
            "Epoch 17 Batch 100 Loss 0.7824 Accuracy 0.8077\n",
            "Epoch 17 Batch 150 Loss 0.8003 Accuracy 0.8044\n",
            "Epoch 17 Batch 200 Loss 0.8145 Accuracy 0.8011\n",
            "Epoch 17 Batch 250 Loss 0.8311 Accuracy 0.7979\n",
            "Epoch 17 Batch 300 Loss 0.8466 Accuracy 0.7951\n",
            "Epoch 17 Batch 350 Loss 0.8554 Accuracy 0.7937\n",
            "Epoch 17 Batch 400 Loss 0.8645 Accuracy 0.7926\n",
            "Epoch 17 Batch 450 Loss 0.8751 Accuracy 0.7910\n",
            "Epoch 17 Loss 0.8787 Accuracy 0.7905\n",
            "Time taken for 1 epoch: 27.60 secs\n",
            "\n",
            "Epoch 18 Batch 0 Loss 0.6166 Accuracy 0.8343\n",
            "Epoch 18 Batch 50 Loss 0.7300 Accuracy 0.8184\n",
            "Epoch 18 Batch 100 Loss 0.7390 Accuracy 0.8155\n",
            "Epoch 18 Batch 150 Loss 0.7579 Accuracy 0.8119\n",
            "Epoch 18 Batch 200 Loss 0.7665 Accuracy 0.8100\n",
            "Epoch 18 Batch 250 Loss 0.7777 Accuracy 0.8074\n",
            "Epoch 18 Batch 300 Loss 0.7870 Accuracy 0.8061\n",
            "Epoch 18 Batch 350 Loss 0.7930 Accuracy 0.8055\n",
            "Epoch 18 Batch 400 Loss 0.8037 Accuracy 0.8042\n",
            "Epoch 18 Batch 450 Loss 0.8130 Accuracy 0.8027\n",
            "Epoch 18 Loss 0.8166 Accuracy 0.8023\n",
            "Time taken for 1 epoch: 26.31 secs\n",
            "\n",
            "Epoch 19 Batch 0 Loss 0.6444 Accuracy 0.8284\n",
            "Epoch 19 Batch 50 Loss 0.6643 Accuracy 0.8314\n",
            "Epoch 19 Batch 100 Loss 0.6782 Accuracy 0.8273\n",
            "Epoch 19 Batch 150 Loss 0.6857 Accuracy 0.8253\n",
            "Epoch 19 Batch 200 Loss 0.7013 Accuracy 0.8227\n",
            "Epoch 19 Batch 250 Loss 0.7131 Accuracy 0.8204\n",
            "Epoch 19 Batch 300 Loss 0.7231 Accuracy 0.8187\n",
            "Epoch 19 Batch 350 Loss 0.7367 Accuracy 0.8164\n",
            "Epoch 19 Batch 400 Loss 0.7467 Accuracy 0.8147\n",
            "Epoch 19 Batch 450 Loss 0.7569 Accuracy 0.8133\n",
            "Epoch 19 Loss 0.7590 Accuracy 0.8130\n",
            "Time taken for 1 epoch: 25.99 secs\n",
            "\n",
            "Epoch 20 Batch 0 Loss 0.4767 Accuracy 0.8859\n",
            "Epoch 20 Batch 50 Loss 0.6093 Accuracy 0.8428\n",
            "Epoch 20 Batch 100 Loss 0.6261 Accuracy 0.8385\n",
            "Epoch 20 Batch 150 Loss 0.6389 Accuracy 0.8362\n",
            "Epoch 20 Batch 200 Loss 0.6526 Accuracy 0.8326\n",
            "Epoch 20 Batch 250 Loss 0.6603 Accuracy 0.8314\n",
            "Epoch 20 Batch 300 Loss 0.6741 Accuracy 0.8283\n",
            "Epoch 20 Batch 350 Loss 0.6866 Accuracy 0.8263\n",
            "Epoch 20 Batch 400 Loss 0.6958 Accuracy 0.8249\n",
            "Epoch 20 Batch 450 Loss 0.7068 Accuracy 0.8230\n",
            "Saving checkpoint for epoch 20 at ./checkpoints/cn_en/train/ckpt-4\n",
            "Epoch 20 Loss 0.7095 Accuracy 0.8224\n",
            "Time taken for 1 epoch: 26.50 secs\n",
            "\n"
          ]
        }
      ]
    },
    {
      "cell_type": "code",
      "source": [
        "from google.colab import drive\n",
        "drive.mount('/content/drive')"
      ],
      "metadata": {
        "colab": {
          "base_uri": "https://localhost:8080/"
        },
        "id": "t9tVAR9hKHDs",
        "outputId": "ece40a46-cdc4-43b3-f186-cec06e08046f"
      },
      "execution_count": 66,
      "outputs": [
        {
          "output_type": "stream",
          "name": "stdout",
          "text": [
            "Mounted at /content/drive\n"
          ]
        }
      ]
    },
    {
      "cell_type": "code",
      "source": [
        "class Translator(tf.Module):\n",
        "    def __init__(self, input_text_processor, output_text_processor, transformer):\n",
        "        self.tokenizers_pt = input_text_processor\n",
        "        self.tokenizers_en = output_text_processor\n",
        "\n",
        "        self.output_token_string_from_index = (\n",
        "        tf.keras.layers.StringLookup(\n",
        "            vocabulary=output_text_processor.get_vocabulary(),\n",
        "            mask_token='',\n",
        "            invert=True))\n",
        "        self.transformer = transformer\n",
        "\n",
        "    def __call__(self, sentence, max_length=20):\n",
        "\n",
        "        assert isinstance(sentence, tf.Tensor)\n",
        "\n",
        "        if len(sentence.shape) == 0:\n",
        "            sentence = sentence[tf.newaxis]\n",
        "\n",
        "        sentence = self.tokenizers_pt(sentence)\n",
        "\n",
        "        encoder_input = sentence\n",
        "\n",
        "        start_and_end = self.tokenizers_en([''])[0]\n",
        "\n",
        "        start = start_and_end[0][tf.newaxis]\n",
        "\n",
        "        end = start_and_end[1][tf.newaxis]\n",
        "\n",
        "\n",
        "\n",
        "\n",
        "        #if dynamic_size set to True, then the array we grow automatically\n",
        "        output_array = tf.TensorArray(dtype=tf.int64, size=0, dynamic_size=True)\n",
        "        #write(index, value) ：write the value into  index;\n",
        "        output_array = output_array.write(0, start)\n",
        "\n",
        "\n",
        "        for i in tf.range(max_length):\n",
        "            #output_array.stack()return all the values in output_array\n",
        "            #tf.transpose is the shape of tensor\n",
        "            #shape is （2，1）tf.transpose change into（1，2）\n",
        "            output = tf.transpose(output_array.stack())\n",
        "\n",
        "            #output value will create a predict value (batch_size, tar_seq_len, target_vocab_size)\n",
        "            #we input a sentence，batch_size = 1\n",
        "            #tar_seq_len will change with the change of output second dimentsion, 1,2,3\n",
        "            #target_vocab_size will not change\n",
        "            #（1, 1, 8000), (1, 2, 8000), (1, 3, 8000)\n",
        "            predictions, _ = self.transformer([encoder_input, output], training=False)\n",
        "\n",
        "            #change the last token from seq_len dimension\n",
        "            predictions = predictions[:, -1:, :]\n",
        "\n",
        "            #get the argmax\n",
        "            predicted_id = tf.argmax(predictions, axis=-1)\n",
        "\n",
        "            #append it into output_array\n",
        "            output_array = output_array.write(i+1, predicted_id[0])\n",
        "\n",
        "            #if id equals to end, means the prediction is over, break the loop\n",
        "            if predicted_id == end:\n",
        "                break\n",
        "\n",
        "        #tf.transpose change output_array into （1，tokens）\n",
        "        output = tf.transpose(output_array.stack())\n",
        "\n",
        "\n",
        "        #extract all the predicted words\n",
        "        #result_text_tokens = output_vocab[output[0].numpy()]\n",
        "        result_text_tokens = self.output_token_string_from_index(output)\n",
        "\n",
        "        #delete the start and end\n",
        "        #text_tokens = result_text_tokens[1:-1]\n",
        "        text_tokens = result_text_tokens[:, 1:-1]\n",
        "\n",
        "        #join the words into sentence\n",
        "        #text = ' '.join(text_tokens)\n",
        "        text = tf.strings.reduce_join(text_tokens, axis=1, separator=' ')\n",
        "\n",
        "\n",
        "        _, attention_weights = self.transformer([encoder_input, output[:,:-1]], training=False)\n",
        "\n",
        "        return text[0], result_text_tokens, attention_weights"
      ],
      "metadata": {
        "id": "OFR-IL0BDICK"
      },
      "execution_count": 73,
      "outputs": []
    },
    {
      "cell_type": "code",
      "source": [
        "#打印结果\n",
        "def print_translation(sentence, tokens, ground_truth):\n",
        "    print(f'{\"Input:\":15s}: {sentence}') #input sentence\n",
        "    print(f'{\"Prediction\":15s}: {tokens.numpy().decode(\"utf-8\")}') #predict value\n",
        "    print(f'{\"Ground truth\":15s}: {ground_truth}') #ground truth"
      ],
      "metadata": {
        "id": "8eF-nYXUDLmZ"
      },
      "execution_count": 74,
      "outputs": []
    },
    {
      "cell_type": "code",
      "source": [
        "translator = Translator(input_text_processor, output_text_processor, transformer)\n"
      ],
      "metadata": {
        "id": "DLZG_JPeDPBm"
      },
      "execution_count": 75,
      "outputs": []
    },
    {
      "cell_type": "code",
      "source": [
        "sentence = \"想拿到大公司的面试可不容易\"\n",
        "ground_truth = \"Do you want to go out this weekend?\""
      ],
      "metadata": {
        "id": "DiDeS71DDQoS"
      },
      "execution_count": 86,
      "outputs": []
    },
    {
      "cell_type": "code",
      "source": [
        "translated_text, translated_tokens, attention_weights = translator(\n",
        "    tf.constant(proce_cn_sentence(sentence)))\n",
        "print_translation(sentence, translated_text, ground_truth)"
      ],
      "metadata": {
        "colab": {
          "base_uri": "https://localhost:8080/"
        },
        "id": "nUgu_HUEDSKZ",
        "outputId": "cf58786f-4e43-42c4-a5ee-f49a1c6a4176"
      },
      "execution_count": 87,
      "outputs": [
        {
          "output_type": "stream",
          "name": "stdout",
          "text": [
            "Input:         : 想拿到大公司的面试可不容易\n",
            "Prediction     : it is not necessary for downtown .\n",
            "Ground truth   : Do you want to go out this weekend?\n"
          ]
        }
      ]
    },
    {
      "cell_type": "code",
      "source": [],
      "metadata": {
        "id": "FOOUMhzvbAJy"
      },
      "execution_count": null,
      "outputs": []
    }
  ]
}